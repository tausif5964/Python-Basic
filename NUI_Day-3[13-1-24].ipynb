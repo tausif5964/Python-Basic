{
 "cells": [
  {
   "cell_type": "code",
   "execution_count": 1,
   "id": "88c35bdc",
   "metadata": {},
   "outputs": [
    {
     "name": "stdout",
     "output_type": "stream",
     "text": [
      "enter value of a: 5\n",
      "enter value of b: 4\n",
      "a is greater han b \n"
     ]
    }
   ],
   "source": [
    "# checking for equal numbers \n",
    "a = int(input('enter value of a: '))\n",
    "b = int(input('enter value of b: '))\n",
    "\n",
    "if a>b:\n",
    "    print('a is greater han b ')\n",
    "elif a==b:\n",
    "    print('a equal to b ')\n",
    "else:\n",
    "    print('a is less han b ')"
   ]
  },
  {
   "cell_type": "code",
   "execution_count": 2,
   "id": "4096ceb6",
   "metadata": {},
   "outputs": [],
   "source": [
    "# checking for equal numbers \n",
    "#a = int(input('enter value of a: '))\n",
    "#b = int(input('enter value of b: '))\n",
    "#print('a is greater han b ') if a>b else print('a equal to b ') if a==b else print('a is less than b ') if a<b "
   ]
  },
  {
   "cell_type": "code",
   "execution_count": 3,
   "id": "a312b483",
   "metadata": {},
   "outputs": [
    {
     "name": "stdout",
     "output_type": "stream",
     "text": [
      "enter value of a: 55\n",
      "enter value of b: 44\n",
      "enter value of c: 45\n"
     ]
    }
   ],
   "source": [
    "a = int(input('enter value of a: '))\n",
    "b = int(input('enter value of b: '))\n",
    "c = int(input('enter value of c: '))\n",
    "\n",
    "if not a<b and b>c:\n",
    "    print('both condition are true')"
   ]
  },
  {
   "cell_type": "code",
   "execution_count": 4,
   "id": "fc81af5b",
   "metadata": {},
   "outputs": [
    {
     "name": "stdout",
     "output_type": "stream",
     "text": [
      "enter value of a: 44\n",
      "enter value of b: 55\n",
      "enter value of c: 44\n",
      "both condition are true\n"
     ]
    }
   ],
   "source": [
    "a = int(input('enter value of a: '))\n",
    "b = int(input('enter value of b: '))\n",
    "c = int(input('enter value of c: '))\n",
    "\n",
    "if a<b and b>c:\n",
    "    print('both condition are true')"
   ]
  },
  {
   "cell_type": "code",
   "execution_count": 5,
   "id": "72ced63f",
   "metadata": {},
   "outputs": [
    {
     "name": "stdout",
     "output_type": "stream",
     "text": [
      "enter x value44\n",
      "x is greater than 19\n"
     ]
    }
   ],
   "source": [
    "X = int(input('enter x value'))\n",
    "if X>3:\n",
    "    if X>15:\n",
    "        if X>19:\n",
    "            print('x is greater than 19')\n",
    "        else:\n",
    "            print('X is less than 19')\n",
    "    else:\n",
    "        print('x is less tha 15')\n",
    "else:\n",
    "    print('x is less than 3')"
   ]
  },
  {
   "cell_type": "markdown",
   "id": "2b88ced4",
   "metadata": {},
   "source": [
    "# pass statement"
   ]
  },
  {
   "cell_type": "markdown",
   "id": "b19abf70",
   "metadata": {},
   "source": [
    "if statement cannot be empty, nut if you for some reason have an if statementwith no content put in the pass statement to avoid getting error"
   ]
  },
  {
   "cell_type": "code",
   "execution_count": 6,
   "id": "821968cc",
   "metadata": {},
   "outputs": [],
   "source": [
    "a =100\n",
    "b = 200\n",
    "if a<b:\n",
    "    pass\n",
    "else:\n",
    "    print('print a is greater')"
   ]
  },
  {
   "cell_type": "code",
   "execution_count": null,
   "id": "976491b7",
   "metadata": {},
   "outputs": [],
   "source": []
  },
  {
   "cell_type": "code",
   "execution_count": null,
   "id": "5eda5db6",
   "metadata": {},
   "outputs": [],
   "source": []
  },
  {
   "cell_type": "markdown",
   "id": "4926e85a",
   "metadata": {},
   "source": [
    "# while loop"
   ]
  },
  {
   "cell_type": "code",
   "execution_count": 7,
   "id": "ef25f85b",
   "metadata": {},
   "outputs": [
    {
     "name": "stdout",
     "output_type": "stream",
     "text": [
      "0\n",
      "1\n",
      "2\n"
     ]
    }
   ],
   "source": [
    "i = 0\n",
    "while i<3:\n",
    "    print(i)\n",
    "    i+=1"
   ]
  },
  {
   "cell_type": "markdown",
   "id": "8746df59",
   "metadata": {},
   "source": [
    "# with BREAK statement we can stop the loop even if the while condition is true"
   ]
  },
  {
   "cell_type": "code",
   "execution_count": 8,
   "id": "0cfc8fbb",
   "metadata": {},
   "outputs": [
    {
     "name": "stdout",
     "output_type": "stream",
     "text": [
      "0\n",
      "0\n",
      "1\n",
      "1\n",
      "2\n",
      "2\n",
      "3\n"
     ]
    }
   ],
   "source": [
    "i=0\n",
    "while i<5:\n",
    "    print(i)\n",
    "    if i==3:\n",
    "        break\n",
    "    print(i)\n",
    "    i+=1"
   ]
  },
  {
   "cell_type": "markdown",
   "id": "477b860b",
   "metadata": {},
   "source": [
    "\n",
    "# with the help of CONTINUE statemnt we can stop current iteration and continue with next iteration"
   ]
  },
  {
   "cell_type": "code",
   "execution_count": null,
   "id": "3b7e5a8f",
   "metadata": {},
   "outputs": [],
   "source": [
    "i=0\n",
    "while i<=7:\n",
    "    if i==3:\n",
    "        continue\n",
    "    print(i)\n",
    "    i+=1"
   ]
  },
  {
   "cell_type": "code",
   "execution_count": 10,
   "id": "d3800fbc",
   "metadata": {},
   "outputs": [
    {
     "name": "stdout",
     "output_type": "stream",
     "text": [
      "1\n",
      "2\n",
      "4\n",
      "5\n",
      "6\n",
      "7\n"
     ]
    }
   ],
   "source": [
    "i=0\n",
    "while i<7:\n",
    "    i+=1\n",
    "    if i==3:\n",
    "        continue\n",
    "    print(i)"
   ]
  },
  {
   "cell_type": "markdown",
   "id": "f68a2288",
   "metadata": {},
   "source": [
    "# with the help of else statement we can run a block of code once when the condition no longer is true:"
   ]
  },
  {
   "cell_type": "markdown",
   "id": "280b4786",
   "metadata": {},
   "source": [
    "print message once the condition is false:"
   ]
  },
  {
   "cell_type": "code",
   "execution_count": 12,
   "id": "39f1829d",
   "metadata": {},
   "outputs": [
    {
     "name": "stdout",
     "output_type": "stream",
     "text": [
      "0\n",
      "1\n",
      "2\n",
      "3\n",
      "4\n",
      "5\n",
      "6\n",
      "7\n",
      "now i will print greater\n"
     ]
    }
   ],
   "source": [
    "i = 0\n",
    "while i<=7:\n",
    "    print(i)\n",
    "    i+=1\n",
    "else:\n",
    "    print('now i will print greater')"
   ]
  },
  {
   "cell_type": "code",
   "execution_count": null,
   "id": "b21a5962",
   "metadata": {},
   "outputs": [],
   "source": []
  },
  {
   "cell_type": "code",
   "execution_count": null,
   "id": "d1110c8d",
   "metadata": {},
   "outputs": [],
   "source": []
  },
  {
   "cell_type": "markdown",
   "id": "f173fd88",
   "metadata": {},
   "source": [
    "# For loop \n"
   ]
  },
  {
   "cell_type": "code",
   "execution_count": 13,
   "id": "1bc305cb",
   "metadata": {},
   "outputs": [
    {
     "name": "stdout",
     "output_type": "stream",
     "text": [
      "apple\n",
      "banana\n",
      "mango\n"
     ]
    }
   ],
   "source": [
    "fruits =['apple','banana','mango']\n",
    "for x in fruits:\n",
    "    print(x)"
   ]
  },
  {
   "cell_type": "code",
   "execution_count": 14,
   "id": "ea57dea5",
   "metadata": {},
   "outputs": [
    {
     "name": "stdout",
     "output_type": "stream",
     "text": [
      "b\n",
      "a\n",
      "n\n",
      "a\n",
      "n\n",
      "a\n"
     ]
    }
   ],
   "source": [
    "for x in 'banana':\n",
    "    print(x)"
   ]
  },
  {
   "cell_type": "markdown",
   "id": "d46c6dfd",
   "metadata": {},
   "source": [
    "using BREAK statement in for loop"
   ]
  },
  {
   "cell_type": "code",
   "execution_count": 25,
   "id": "62a279e9",
   "metadata": {},
   "outputs": [
    {
     "name": "stdout",
     "output_type": "stream",
     "text": [
      "apple\n",
      "banana\n"
     ]
    }
   ],
   "source": [
    "fruits =['apple','banana','mango']\n",
    "for x in fruits:\n",
    "    print(x)\n",
    "    if x=='banana':\n",
    "        break"
   ]
  },
  {
   "cell_type": "code",
   "execution_count": 24,
   "id": "50346448",
   "metadata": {},
   "outputs": [
    {
     "name": "stdout",
     "output_type": "stream",
     "text": [
      "apple\n"
     ]
    }
   ],
   "source": [
    "fruits =['apple','banana','mango']\n",
    "for x in fruits:\n",
    "    if x=='banana':\n",
    "        break\n",
    "    print(x)"
   ]
  },
  {
   "cell_type": "markdown",
   "id": "8c5781bf",
   "metadata": {},
   "source": [
    "using CONTINUE statement in for loop"
   ]
  },
  {
   "cell_type": "code",
   "execution_count": 22,
   "id": "ee41a1c7",
   "metadata": {},
   "outputs": [
    {
     "name": "stdout",
     "output_type": "stream",
     "text": [
      "apple\n",
      "mango\n"
     ]
    }
   ],
   "source": [
    "fruits =['apple','banana','mango']\n",
    "for x in fruits:\n",
    "    if x=='banana':\n",
    "        continue\n",
    "    print(x)"
   ]
  },
  {
   "cell_type": "code",
   "execution_count": 26,
   "id": "d3fb7d1c",
   "metadata": {},
   "outputs": [
    {
     "name": "stdout",
     "output_type": "stream",
     "text": [
      "apple\n",
      "banana\n",
      "mango\n"
     ]
    }
   ],
   "source": [
    "fruits =['apple','banana','mango']\n",
    "for x in fruits:\n",
    "    print(x)\n",
    "    if x=='banana':\n",
    "        continue\n",
    "    "
   ]
  },
  {
   "cell_type": "markdown",
   "id": "3019b72d",
   "metadata": {},
   "source": [
    "# Range funcion in for loop"
   ]
  },
  {
   "cell_type": "markdown",
   "id": "e15da71f",
   "metadata": {},
   "source": [
    "to loop through a set of code a specified number of time we can use the range() function the range() function reurn a sequence of number stating from  by deefaul and increment by  by default and ende at a specified number"
   ]
  },
  {
   "cell_type": "code",
   "execution_count": 32,
   "id": "3df5c914",
   "metadata": {},
   "outputs": [
    {
     "name": "stdout",
     "output_type": "stream",
     "text": [
      "0\n",
      "1\n",
      "2\n",
      "3\n",
      "4\n"
     ]
    }
   ],
   "source": [
    "# for using range() function\n",
    "for x in range(5):\n",
    "    print(x)"
   ]
  },
  {
   "cell_type": "markdown",
   "id": "6e0f8bf7",
   "metadata": {},
   "source": [
    "the default to incremnt the sequence by 1 however "
   ]
  },
  {
   "cell_type": "code",
   "execution_count": 33,
   "id": "e084560e",
   "metadata": {},
   "outputs": [],
   "source": [
    "# "
   ]
  },
  {
   "cell_type": "code",
   "execution_count": 34,
   "id": "f03fe61b",
   "metadata": {},
   "outputs": [
    {
     "name": "stdout",
     "output_type": "stream",
     "text": [
      "1\n",
      "2\n",
      "3\n",
      "4\n",
      "5\n",
      "6\n",
      "7\n",
      "8\n",
      "9\n"
     ]
    }
   ],
   "source": [
    "for x in range (1,10):\n",
    "    print(x)"
   ]
  },
  {
   "cell_type": "code",
   "execution_count": null,
   "id": "ae8556a7",
   "metadata": {},
   "outputs": [],
   "source": []
  },
  {
   "cell_type": "code",
   "execution_count": 39,
   "id": "470d7ae6",
   "metadata": {},
   "outputs": [
    {
     "name": "stdout",
     "output_type": "stream",
     "text": [
      "1\n",
      "6\n"
     ]
    }
   ],
   "source": [
    "for x in range(1,10,5):\n",
    "    print(x)"
   ]
  },
  {
   "cell_type": "markdown",
   "id": "07e265d6",
   "metadata": {},
   "source": [
    "# Else in for loop"
   ]
  },
  {
   "cell_type": "code",
   "execution_count": 42,
   "id": "167a65a8",
   "metadata": {},
   "outputs": [
    {
     "name": "stdout",
     "output_type": "stream",
     "text": [
      "0\n",
      "10\n",
      "20\n",
      "30\n",
      "40\n",
      "50\n",
      "60\n",
      "70\n",
      "80\n",
      "90\n",
      "finally finished\n"
     ]
    }
   ],
   "source": [
    "for x in range(0,100,10):\n",
    "    print(x)\n",
    "else:\n",
    "    print('finally finished')"
   ]
  },
  {
   "cell_type": "code",
   "execution_count": 45,
   "id": "1d0e43f1",
   "metadata": {},
   "outputs": [
    {
     "name": "stdout",
     "output_type": "stream",
     "text": [
      "0\n",
      "10\n",
      "20\n",
      "30\n",
      "40\n"
     ]
    }
   ],
   "source": [
    "for x in range(0,100,10):\n",
    "    if x==50:\n",
    "        break\n",
    "    print(x)\n",
    "else:\n",
    "    print('non finish')"
   ]
  },
  {
   "cell_type": "code",
   "execution_count": 47,
   "id": "aaf29099",
   "metadata": {},
   "outputs": [
    {
     "name": "stdout",
     "output_type": "stream",
     "text": [
      "1\n"
     ]
    }
   ],
   "source": [
    "for x in range(1,100,2):\n",
    "    if x%3==0:\n",
    "        break\n",
    "    print(x)\n",
    "else:\n",
    "    print('finish')"
   ]
  },
  {
   "cell_type": "code",
   "execution_count": null,
   "id": "963f6250",
   "metadata": {},
   "outputs": [],
   "source": []
  },
  {
   "cell_type": "code",
   "execution_count": null,
   "id": "2659d4a2",
   "metadata": {},
   "outputs": [],
   "source": []
  },
  {
   "cell_type": "code",
   "execution_count": 48,
   "id": "1fb5101d",
   "metadata": {},
   "outputs": [
    {
     "name": "stdout",
     "output_type": "stream",
     "text": [
      "enter the number5\n",
      "number is odd\n"
     ]
    }
   ],
   "source": [
    "x = int(input('enter the number'))\n",
    "if x%2==0:\n",
    "    print(x+'number is even')\n",
    "else:\n",
    "    print('number is odd')"
   ]
  },
  {
   "cell_type": "code",
   "execution_count": 70,
   "id": "9f5b3e08",
   "metadata": {},
   "outputs": [
    {
     "name": "stdout",
     "output_type": "stream",
     "text": [
      "enter the number4\n",
      "enter the number4\n",
      "enter the number4\n",
      "enter the number4\n",
      " all are Equal\n"
     ]
    }
   ],
   "source": [
    "a = int(input('enter the number'))\n",
    "b = int(input('enter the number'))\n",
    "c = int(input('enter the number'))\n",
    "d= int(input('enter the number'))\n",
    "if a>b and b>c and c>d:\n",
    "    print(' a is greater')\n",
    "elif a<b and b>c and c>d:\n",
    "    print(' b is greater')\n",
    "elif a<b and b<c and c>d:\n",
    "    print(' c is greater')\n",
    "elif a<b and b<c and c<d:\n",
    "    print(' d is greater')\n",
    "elif a==b and b==c and c==d:\n",
    "    print(' all are Equal')"
   ]
  },
  {
   "cell_type": "code",
   "execution_count": 64,
   "id": "293f61bd",
   "metadata": {},
   "outputs": [
    {
     "name": "stdout",
     "output_type": "stream",
     "text": [
      "enter age: 16\n",
      "please wait -2 years...\n"
     ]
    }
   ],
   "source": [
    "age = int(input('enter age: '))\n",
    "if age >= 18:\n",
    "    print('you are eligile to vote')\n",
    "else:\n",
    "    age = age - 18\n",
    "    print('please wait',age, 'years...' )"
   ]
  },
  {
   "cell_type": "code",
   "execution_count": 71,
   "id": "cd47f1ac",
   "metadata": {},
   "outputs": [
    {
     "name": "stdout",
     "output_type": "stream",
     "text": [
      "enter the marks40\n",
      "sorry you fail\n"
     ]
    }
   ],
   "source": [
    "marks = int(input('enter the marks'))\n",
    "if marks>85 and marks<=100:\n",
    "    print('congratulation.... you score great  you scored A grade')\n",
    "elif marks>60 and marks>85:\n",
    "    print('you scored b grade')\n",
    "elif marks>45 and marks<60:\n",
    "    print('you scored c grade')\n",
    "else: \n",
    "    print('sorry you fail')"
   ]
  },
  {
   "cell_type": "code",
   "execution_count": null,
   "id": "e7ff822b",
   "metadata": {},
   "outputs": [],
   "source": []
  }
 ],
 "metadata": {
  "kernelspec": {
   "display_name": "Python 3 (ipykernel)",
   "language": "python",
   "name": "python3"
  },
  "language_info": {
   "codemirror_mode": {
    "name": "ipython",
    "version": 3
   },
   "file_extension": ".py",
   "mimetype": "text/x-python",
   "name": "python",
   "nbconvert_exporter": "python",
   "pygments_lexer": "ipython3",
   "version": "3.11.5"
  }
 },
 "nbformat": 4,
 "nbformat_minor": 5
}
