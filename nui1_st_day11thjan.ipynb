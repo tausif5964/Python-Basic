{
 "cells": [
  {
   "cell_type": "markdown",
   "id": "4ee2dd89",
   "metadata": {},
   "source": [
    "### Define variable and print variable "
   ]
  },
  {
   "cell_type": "code",
   "execution_count": 1,
   "id": "da912bb0",
   "metadata": {},
   "outputs": [
    {
     "data": {
      "text/plain": [
       "'apple'"
      ]
     },
     "execution_count": 1,
     "metadata": {},
     "output_type": "execute_result"
    }
   ],
   "source": [
    "fruits = \"apple\"\n",
    "fruits"
   ]
  },
  {
   "cell_type": "code",
   "execution_count": 2,
   "id": "e0a057dd",
   "metadata": {},
   "outputs": [
    {
     "data": {
      "text/plain": [
       "'watermelon'"
      ]
     },
     "execution_count": 2,
     "metadata": {},
     "output_type": "execute_result"
    }
   ],
   "source": [
    "fruits = \"watermelon\"\n",
    "fruits"
   ]
  },
  {
   "cell_type": "code",
   "execution_count": 3,
   "id": "6bfb2fe2",
   "metadata": {},
   "outputs": [
    {
     "data": {
      "text/plain": [
       "str"
      ]
     },
     "execution_count": 3,
     "metadata": {},
     "output_type": "execute_result"
    }
   ],
   "source": [
    "type(fruits)"
   ]
  },
  {
   "cell_type": "markdown",
   "id": "f1400739",
   "metadata": {},
   "source": [
    "### write your first program with print"
   ]
  },
  {
   "cell_type": "code",
   "execution_count": 4,
   "id": "a0218d79",
   "metadata": {},
   "outputs": [
    {
     "name": "stdout",
     "output_type": "stream",
     "text": [
      " This is my first program in Python\n"
     ]
    }
   ],
   "source": [
    "print(\" This is my first program in Python\")"
   ]
  },
  {
   "cell_type": "markdown",
   "id": "28450c37",
   "metadata": {},
   "source": [
    "### Let us understand various types of data type in Python "
   ]
  },
  {
   "cell_type": "code",
   "execution_count": 7,
   "id": "28f36bb5",
   "metadata": {},
   "outputs": [
    {
     "data": {
      "text/plain": [
       "9"
      ]
     },
     "execution_count": 7,
     "metadata": {},
     "output_type": "execute_result"
    }
   ],
   "source": [
    "# integer data type\n",
    "data = 9\n",
    "data"
   ]
  },
  {
   "cell_type": "code",
   "execution_count": 6,
   "id": "fd565135",
   "metadata": {},
   "outputs": [
    {
     "data": {
      "text/plain": [
       "int"
      ]
     },
     "execution_count": 6,
     "metadata": {},
     "output_type": "execute_result"
    }
   ],
   "source": [
    "type(data)"
   ]
  },
  {
   "cell_type": "code",
   "execution_count": 8,
   "id": "1b154939",
   "metadata": {},
   "outputs": [
    {
     "data": {
      "text/plain": [
       "9.6"
      ]
     },
     "execution_count": 8,
     "metadata": {},
     "output_type": "execute_result"
    }
   ],
   "source": [
    "# Float data type \n",
    "data = 9.6\n",
    "data"
   ]
  },
  {
   "cell_type": "code",
   "execution_count": 9,
   "id": "ff8a6521",
   "metadata": {},
   "outputs": [
    {
     "data": {
      "text/plain": [
       "float"
      ]
     },
     "execution_count": 9,
     "metadata": {},
     "output_type": "execute_result"
    }
   ],
   "source": [
    "type(data)"
   ]
  },
  {
   "cell_type": "code",
   "execution_count": 10,
   "id": "4c4e1302",
   "metadata": {},
   "outputs": [
    {
     "data": {
      "text/plain": [
       "'hello world'"
      ]
     },
     "execution_count": 10,
     "metadata": {},
     "output_type": "execute_result"
    }
   ],
   "source": [
    "# string data type \n",
    "data = \"hello world\"\n",
    "data"
   ]
  },
  {
   "cell_type": "code",
   "execution_count": 11,
   "id": "7d2f3f56",
   "metadata": {},
   "outputs": [
    {
     "data": {
      "text/plain": [
       "str"
      ]
     },
     "execution_count": 11,
     "metadata": {},
     "output_type": "execute_result"
    }
   ],
   "source": [
    "type(data)"
   ]
  },
  {
   "cell_type": "code",
   "execution_count": 12,
   "id": "7f378bc5",
   "metadata": {},
   "outputs": [
    {
     "data": {
      "text/plain": [
       "False"
      ]
     },
     "execution_count": 12,
     "metadata": {},
     "output_type": "execute_result"
    }
   ],
   "source": [
    "# Boolean data type \n",
    "data = False\n",
    "data"
   ]
  },
  {
   "cell_type": "code",
   "execution_count": 13,
   "id": "38ea0a4b",
   "metadata": {},
   "outputs": [
    {
     "data": {
      "text/plain": [
       "bool"
      ]
     },
     "execution_count": 13,
     "metadata": {},
     "output_type": "execute_result"
    }
   ],
   "source": [
    "type(data)"
   ]
  },
  {
   "cell_type": "code",
   "execution_count": 14,
   "id": "e772ed00",
   "metadata": {},
   "outputs": [
    {
     "data": {
      "text/plain": [
       "(5+3j)"
      ]
     },
     "execution_count": 14,
     "metadata": {},
     "output_type": "execute_result"
    }
   ],
   "source": [
    "# Complex data type \n",
    "data = 5 +3j\n",
    "data"
   ]
  },
  {
   "cell_type": "code",
   "execution_count": 15,
   "id": "87e01a42",
   "metadata": {},
   "outputs": [
    {
     "data": {
      "text/plain": [
       "complex"
      ]
     },
     "execution_count": 15,
     "metadata": {},
     "output_type": "execute_result"
    }
   ],
   "source": [
    "type(data)"
   ]
  },
  {
   "cell_type": "markdown",
   "id": "67983670",
   "metadata": {},
   "source": [
    "### Let us understand Arithmatic operators +,-, *, /"
   ]
  },
  {
   "cell_type": "code",
   "execution_count": 16,
   "id": "a23b3284",
   "metadata": {},
   "outputs": [],
   "source": [
    "a = 20 \n",
    "b = 30 "
   ]
  },
  {
   "cell_type": "code",
   "execution_count": 17,
   "id": "d88d3c47",
   "metadata": {},
   "outputs": [
    {
     "data": {
      "text/plain": [
       "(20, 30)"
      ]
     },
     "execution_count": 17,
     "metadata": {},
     "output_type": "execute_result"
    }
   ],
   "source": [
    "a, b"
   ]
  },
  {
   "cell_type": "code",
   "execution_count": 18,
   "id": "a957de42",
   "metadata": {},
   "outputs": [
    {
     "data": {
      "text/plain": [
       "50"
      ]
     },
     "execution_count": 18,
     "metadata": {},
     "output_type": "execute_result"
    }
   ],
   "source": [
    "a + b"
   ]
  },
  {
   "cell_type": "code",
   "execution_count": 19,
   "id": "523ef02a",
   "metadata": {},
   "outputs": [
    {
     "data": {
      "text/plain": [
       "-10"
      ]
     },
     "execution_count": 19,
     "metadata": {},
     "output_type": "execute_result"
    }
   ],
   "source": [
    "a - b"
   ]
  },
  {
   "cell_type": "code",
   "execution_count": 20,
   "id": "f351b11e",
   "metadata": {},
   "outputs": [
    {
     "data": {
      "text/plain": [
       "600"
      ]
     },
     "execution_count": 20,
     "metadata": {},
     "output_type": "execute_result"
    }
   ],
   "source": [
    "a * b"
   ]
  },
  {
   "cell_type": "code",
   "execution_count": 23,
   "id": "0a703e03",
   "metadata": {},
   "outputs": [
    {
     "data": {
      "text/plain": [
       "0.6666666666666666"
      ]
     },
     "execution_count": 23,
     "metadata": {},
     "output_type": "execute_result"
    }
   ],
   "source": [
    "a / b"
   ]
  },
  {
   "cell_type": "markdown",
   "id": "7b7b9a6c",
   "metadata": {},
   "source": [
    "### Let us understand relational operators < , >, ==, != "
   ]
  },
  {
   "cell_type": "code",
   "execution_count": 25,
   "id": "97c11a45",
   "metadata": {},
   "outputs": [],
   "source": [
    "a = 30 \n",
    "b = 40 "
   ]
  },
  {
   "cell_type": "code",
   "execution_count": 26,
   "id": "e73aa9f4",
   "metadata": {},
   "outputs": [
    {
     "data": {
      "text/plain": [
       "(30, 40)"
      ]
     },
     "execution_count": 26,
     "metadata": {},
     "output_type": "execute_result"
    }
   ],
   "source": [
    "a , b "
   ]
  },
  {
   "cell_type": "code",
   "execution_count": 27,
   "id": "839bf20e",
   "metadata": {},
   "outputs": [
    {
     "data": {
      "text/plain": [
       "False"
      ]
     },
     "execution_count": 27,
     "metadata": {},
     "output_type": "execute_result"
    }
   ],
   "source": [
    "a > b "
   ]
  },
  {
   "cell_type": "code",
   "execution_count": 28,
   "id": "5f82bf39",
   "metadata": {},
   "outputs": [
    {
     "data": {
      "text/plain": [
       "True"
      ]
     },
     "execution_count": 28,
     "metadata": {},
     "output_type": "execute_result"
    }
   ],
   "source": [
    "a < b"
   ]
  },
  {
   "cell_type": "code",
   "execution_count": 29,
   "id": "9fdf4d54",
   "metadata": {},
   "outputs": [
    {
     "data": {
      "text/plain": [
       "False"
      ]
     },
     "execution_count": 29,
     "metadata": {},
     "output_type": "execute_result"
    }
   ],
   "source": [
    "a == b"
   ]
  },
  {
   "cell_type": "code",
   "execution_count": 30,
   "id": "278ca152",
   "metadata": {},
   "outputs": [
    {
     "data": {
      "text/plain": [
       "True"
      ]
     },
     "execution_count": 30,
     "metadata": {},
     "output_type": "execute_result"
    }
   ],
   "source": [
    "a != b "
   ]
  },
  {
   "cell_type": "markdown",
   "id": "1fd2f9c2",
   "metadata": {},
   "source": [
    "### Let us use logical operators &, | "
   ]
  },
  {
   "cell_type": "code",
   "execution_count": 31,
   "id": "f42459a3",
   "metadata": {},
   "outputs": [
    {
     "data": {
      "text/plain": [
       "(True, False)"
      ]
     },
     "execution_count": 31,
     "metadata": {},
     "output_type": "execute_result"
    }
   ],
   "source": [
    "a = True \n",
    "b = False \n",
    "a, b"
   ]
  },
  {
   "cell_type": "code",
   "execution_count": 32,
   "id": "13e5ff75",
   "metadata": {},
   "outputs": [
    {
     "data": {
      "text/plain": [
       "False"
      ]
     },
     "execution_count": 32,
     "metadata": {},
     "output_type": "execute_result"
    }
   ],
   "source": [
    "a & b"
   ]
  },
  {
   "cell_type": "code",
   "execution_count": 33,
   "id": "2d2da864",
   "metadata": {},
   "outputs": [
    {
     "data": {
      "text/plain": [
       "True"
      ]
     },
     "execution_count": 33,
     "metadata": {},
     "output_type": "execute_result"
    }
   ],
   "source": [
    "a  & a "
   ]
  },
  {
   "cell_type": "code",
   "execution_count": 34,
   "id": "c62bbf79",
   "metadata": {},
   "outputs": [
    {
     "data": {
      "text/plain": [
       "True"
      ]
     },
     "execution_count": 34,
     "metadata": {},
     "output_type": "execute_result"
    }
   ],
   "source": [
    "a | b"
   ]
  },
  {
   "cell_type": "code",
   "execution_count": 35,
   "id": "2d071583",
   "metadata": {},
   "outputs": [
    {
     "data": {
      "text/plain": [
       "True"
      ]
     },
     "execution_count": 35,
     "metadata": {},
     "output_type": "execute_result"
    }
   ],
   "source": [
    "a | b "
   ]
  },
  {
   "cell_type": "code",
   "execution_count": 36,
   "id": "8c2bad67",
   "metadata": {},
   "outputs": [
    {
     "data": {
      "text/plain": [
       "False"
      ]
     },
     "execution_count": 36,
     "metadata": {},
     "output_type": "execute_result"
    }
   ],
   "source": [
    "b | b "
   ]
  },
  {
   "cell_type": "code",
   "execution_count": 37,
   "id": "4672744a",
   "metadata": {},
   "outputs": [
    {
     "data": {
      "text/plain": [
       "(True, False, False, True, True, False)"
      ]
     },
     "execution_count": 37,
     "metadata": {},
     "output_type": "execute_result"
    }
   ],
   "source": [
    "a & a, a & b, b & b, a | a, a | b, b |b"
   ]
  },
  {
   "cell_type": "markdown",
   "id": "8840e938",
   "metadata": {},
   "source": [
    "###  identifiers are case sensitives "
   ]
  },
  {
   "cell_type": "code",
   "execution_count": 38,
   "id": "df3e3593",
   "metadata": {},
   "outputs": [],
   "source": [
    "student = \"raza\"\n",
    "Student = \"Ishika\""
   ]
  },
  {
   "cell_type": "code",
   "execution_count": 39,
   "id": "12b58786",
   "metadata": {},
   "outputs": [
    {
     "data": {
      "text/plain": [
       "'raza'"
      ]
     },
     "execution_count": 39,
     "metadata": {},
     "output_type": "execute_result"
    }
   ],
   "source": [
    "student "
   ]
  },
  {
   "cell_type": "code",
   "execution_count": 40,
   "id": "4aa69c29",
   "metadata": {},
   "outputs": [
    {
     "data": {
      "text/plain": [
       "'Ishika'"
      ]
     },
     "execution_count": 40,
     "metadata": {},
     "output_type": "execute_result"
    }
   ],
   "source": [
    "Student "
   ]
  },
  {
   "cell_type": "markdown",
   "id": "5b465b09",
   "metadata": {},
   "source": [
    "### Store data value in variable, literals mean they are constant, it does not change value "
   ]
  },
  {
   "cell_type": "code",
   "execution_count": 42,
   "id": "40011530",
   "metadata": {},
   "outputs": [
    {
     "data": {
      "text/plain": [
       "'this is my first string'"
      ]
     },
     "execution_count": 42,
     "metadata": {},
     "output_type": "execute_result"
    }
   ],
   "source": [
    "str1 = \"this is my first string\"\n",
    "str1"
   ]
  },
  {
   "cell_type": "code",
   "execution_count": 43,
   "id": "3d16cf92",
   "metadata": {},
   "outputs": [
    {
     "data": {
      "text/plain": [
       "'this is my first string'"
      ]
     },
     "execution_count": 43,
     "metadata": {},
     "output_type": "execute_result"
    }
   ],
   "source": [
    "str2 = 'this is my first string'\n",
    "str2"
   ]
  },
  {
   "cell_type": "code",
   "execution_count": 44,
   "id": "09651857",
   "metadata": {},
   "outputs": [
    {
     "data": {
      "text/plain": [
       "'\\nThis string \\nhas lots of lines\\nin it \\n'"
      ]
     },
     "execution_count": 44,
     "metadata": {},
     "output_type": "execute_result"
    }
   ],
   "source": [
    "str3 = '''\n",
    "This string \n",
    "has lots of lines\n",
    "in it \n",
    "'''\n",
    "str3"
   ]
  },
  {
   "cell_type": "markdown",
   "id": "eaa92fca",
   "metadata": {},
   "source": [
    "### Let us understand string and indexing of strings "
   ]
  },
  {
   "cell_type": "code",
   "execution_count": 45,
   "id": "99c605a1",
   "metadata": {},
   "outputs": [
    {
     "data": {
      "text/plain": [
       "'My name is Neema'"
      ]
     },
     "execution_count": 45,
     "metadata": {},
     "output_type": "execute_result"
    }
   ],
   "source": [
    "my_string = \"My name is Neema\"\n",
    "my_string"
   ]
  },
  {
   "cell_type": "code",
   "execution_count": 46,
   "id": "6ac3f214",
   "metadata": {},
   "outputs": [
    {
     "data": {
      "text/plain": [
       "'M'"
      ]
     },
     "execution_count": 46,
     "metadata": {},
     "output_type": "execute_result"
    }
   ],
   "source": [
    "## Extract the first character of the string \n",
    "my_string[0]"
   ]
  },
  {
   "cell_type": "code",
   "execution_count": 47,
   "id": "b68e0755",
   "metadata": {},
   "outputs": [
    {
     "data": {
      "text/plain": [
       "'a'"
      ]
     },
     "execution_count": 47,
     "metadata": {},
     "output_type": "execute_result"
    }
   ],
   "source": [
    "my_string[-1]"
   ]
  },
  {
   "cell_type": "code",
   "execution_count": 48,
   "id": "a898fff0",
   "metadata": {},
   "outputs": [
    {
     "data": {
      "text/plain": [
       "('M', 'y', ' ', 'n', 'a')"
      ]
     },
     "execution_count": 48,
     "metadata": {},
     "output_type": "execute_result"
    }
   ],
   "source": [
    "my_string[0], my_string[1],my_string[2], my_string[3],my_string[4]"
   ]
  },
  {
   "cell_type": "code",
   "execution_count": 49,
   "id": "5dadf667",
   "metadata": {},
   "outputs": [
    {
     "ename": "TypeError",
     "evalue": "string indices must be integers",
     "output_type": "error",
     "traceback": [
      "\u001b[1;31m---------------------------------------------------------------------------\u001b[0m",
      "\u001b[1;31mTypeError\u001b[0m                                 Traceback (most recent call last)",
      "Input \u001b[1;32mIn [49]\u001b[0m, in \u001b[0;36m<cell line: 1>\u001b[1;34m()\u001b[0m\n\u001b[1;32m----> 1\u001b[0m \u001b[43mmy_string\u001b[49m\u001b[43m[\u001b[49m\u001b[38;5;241;43m0\u001b[39;49m\u001b[43m,\u001b[49m\u001b[38;5;241;43m1\u001b[39;49m\u001b[43m,\u001b[49m\u001b[38;5;241;43m2\u001b[39;49m\u001b[43m,\u001b[49m\u001b[38;5;241;43m3\u001b[39;49m\u001b[43m,\u001b[49m\u001b[38;5;241;43m4\u001b[39;49m\u001b[43m]\u001b[49m\n",
      "\u001b[1;31mTypeError\u001b[0m: string indices must be integers"
     ]
    }
   ],
   "source": [
    "my_string[0,1,2,3,4]"
   ]
  },
  {
   "cell_type": "code",
   "execution_count": 50,
   "id": "af273722",
   "metadata": {},
   "outputs": [
    {
     "data": {
      "text/plain": [
       "'ameeN si eman yM'"
      ]
     },
     "execution_count": 50,
     "metadata": {},
     "output_type": "execute_result"
    }
   ],
   "source": [
    "my_string[::-1]"
   ]
  },
  {
   "cell_type": "code",
   "execution_count": 52,
   "id": "2db8caf8",
   "metadata": {},
   "outputs": [
    {
     "data": {
      "text/plain": [
       "'My na'"
      ]
     },
     "execution_count": 52,
     "metadata": {},
     "output_type": "execute_result"
    }
   ],
   "source": [
    "my_string[0:5]"
   ]
  },
  {
   "cell_type": "code",
   "execution_count": 55,
   "id": "12ef0af3",
   "metadata": {},
   "outputs": [
    {
     "data": {
      "text/plain": [
       "'ame is Neem'"
      ]
     },
     "execution_count": 55,
     "metadata": {},
     "output_type": "execute_result"
    }
   ],
   "source": [
    "my_string[4:-1]"
   ]
  },
  {
   "cell_type": "code",
   "execution_count": 56,
   "id": "cf1242fa",
   "metadata": {},
   "outputs": [
    {
     "data": {
      "text/plain": [
       "('a', ' ')"
      ]
     },
     "execution_count": 56,
     "metadata": {},
     "output_type": "execute_result"
    }
   ],
   "source": [
    "my_string[-1],my_string[-14]"
   ]
  },
  {
   "cell_type": "code",
   "execution_count": 57,
   "id": "8307e073",
   "metadata": {},
   "outputs": [
    {
     "ename": "IndexError",
     "evalue": "string index out of range",
     "output_type": "error",
     "traceback": [
      "\u001b[1;31m---------------------------------------------------------------------------\u001b[0m",
      "\u001b[1;31mIndexError\u001b[0m                                Traceback (most recent call last)",
      "Input \u001b[1;32mIn [57]\u001b[0m, in \u001b[0;36m<cell line: 1>\u001b[1;34m()\u001b[0m\n\u001b[1;32m----> 1\u001b[0m \u001b[43mmy_string\u001b[49m\u001b[43m[\u001b[49m\u001b[38;5;241;43m100\u001b[39;49m\u001b[43m]\u001b[49m\n",
      "\u001b[1;31mIndexError\u001b[0m: string index out of range"
     ]
    }
   ],
   "source": [
    "my_string[100]"
   ]
  },
  {
   "cell_type": "code",
   "execution_count": 58,
   "id": "6be38d18",
   "metadata": {},
   "outputs": [
    {
     "ename": "IndexError",
     "evalue": "string index out of range",
     "output_type": "error",
     "traceback": [
      "\u001b[1;31m---------------------------------------------------------------------------\u001b[0m",
      "\u001b[1;31mIndexError\u001b[0m                                Traceback (most recent call last)",
      "Input \u001b[1;32mIn [58]\u001b[0m, in \u001b[0;36m<cell line: 1>\u001b[1;34m()\u001b[0m\n\u001b[1;32m----> 1\u001b[0m \u001b[43mmy_string\u001b[49m\u001b[43m[\u001b[49m\u001b[38;5;241;43m-\u001b[39;49m\u001b[38;5;241;43m19\u001b[39;49m\u001b[43m]\u001b[49m\n",
      "\u001b[1;31mIndexError\u001b[0m: string index out of range"
     ]
    }
   ],
   "source": [
    "my_string[-19]"
   ]
  },
  {
   "cell_type": "markdown",
   "id": "3c52a444",
   "metadata": {},
   "source": [
    "### let us understand sting functions"
   ]
  },
  {
   "cell_type": "code",
   "execution_count": 51,
   "id": "7cca655a",
   "metadata": {},
   "outputs": [
    {
     "data": {
      "text/plain": [
       "16"
      ]
     },
     "execution_count": 51,
     "metadata": {},
     "output_type": "execute_result"
    }
   ],
   "source": [
    "# determine the length of the string\n",
    "len(my_string)"
   ]
  },
  {
   "cell_type": "code",
   "execution_count": 59,
   "id": "acc57f52",
   "metadata": {},
   "outputs": [
    {
     "data": {
      "text/plain": [
       "'MY NAME IS NEEMA'"
      ]
     },
     "execution_count": 59,
     "metadata": {},
     "output_type": "execute_result"
    }
   ],
   "source": [
    "# change the string to upper case \n",
    "my_string.upper()"
   ]
  },
  {
   "cell_type": "code",
   "execution_count": null,
   "id": "4bc05b36",
   "metadata": {},
   "outputs": [],
   "source": [
    "# change the string to lower case "
   ]
  },
  {
   "cell_type": "code",
   "execution_count": 60,
   "id": "9785c044",
   "metadata": {},
   "outputs": [
    {
     "data": {
      "text/plain": [
       "'my name is neema'"
      ]
     },
     "execution_count": 60,
     "metadata": {},
     "output_type": "execute_result"
    }
   ],
   "source": [
    "my_string.lower()"
   ]
  },
  {
   "cell_type": "markdown",
   "id": "4162273f",
   "metadata": {},
   "source": [
    "### replace the substring"
   ]
  },
  {
   "cell_type": "code",
   "execution_count": 61,
   "id": "5852c578",
   "metadata": {},
   "outputs": [
    {
     "data": {
      "text/plain": [
       "'Ma name is Neema'"
      ]
     },
     "execution_count": 61,
     "metadata": {},
     "output_type": "execute_result"
    }
   ],
   "source": [
    "my_string.replace('y','a')"
   ]
  },
  {
   "cell_type": "code",
   "execution_count": 66,
   "id": "893a1370",
   "metadata": {},
   "outputs": [
    {
     "data": {
      "text/plain": [
       "'My name is Neha'"
      ]
     },
     "execution_count": 66,
     "metadata": {},
     "output_type": "execute_result"
    }
   ],
   "source": [
    "my_string = \"My name is Neema\"\n",
    "my_string.replace('Neema','Neha')"
   ]
  },
  {
   "cell_type": "code",
   "execution_count": 62,
   "id": "5ba98928",
   "metadata": {},
   "outputs": [
    {
     "data": {
      "text/plain": [
       "'hello hello hello'"
      ]
     },
     "execution_count": 62,
     "metadata": {},
     "output_type": "execute_result"
    }
   ],
   "source": [
    "new_string = \"hello hello hello\"\n",
    "new_string"
   ]
  },
  {
   "cell_type": "code",
   "execution_count": 68,
   "id": "7e79c764",
   "metadata": {},
   "outputs": [
    {
     "data": {
      "text/plain": [
       "3"
      ]
     },
     "execution_count": 68,
     "metadata": {},
     "output_type": "execute_result"
    }
   ],
   "source": [
    "new_string.count('hello')"
   ]
  },
  {
   "cell_type": "code",
   "execution_count": 69,
   "id": "678e4bc2",
   "metadata": {},
   "outputs": [
    {
     "data": {
      "text/plain": [
       "'hello hello hello 100 100 100 100'"
      ]
     },
     "execution_count": 69,
     "metadata": {},
     "output_type": "execute_result"
    }
   ],
   "source": [
    "new_string = \"hello hello hello 100 100 100 100\"\n",
    "new_string"
   ]
  },
  {
   "cell_type": "code",
   "execution_count": 70,
   "id": "c351c86c",
   "metadata": {},
   "outputs": [
    {
     "data": {
      "text/plain": [
       "4"
      ]
     },
     "execution_count": 70,
     "metadata": {},
     "output_type": "execute_result"
    }
   ],
   "source": [
    "new_string.count('100')"
   ]
  },
  {
   "cell_type": "markdown",
   "id": "f76c8f3e",
   "metadata": {},
   "source": [
    "### finding the index of the substring "
   ]
  },
  {
   "cell_type": "code",
   "execution_count": 71,
   "id": "1ec0af56",
   "metadata": {},
   "outputs": [
    {
     "data": {
      "text/plain": [
       "9"
      ]
     },
     "execution_count": 71,
     "metadata": {},
     "output_type": "execute_result"
    }
   ],
   "source": [
    "string1 = \"today is Monday\"\n",
    "string1.find('Monday')"
   ]
  },
  {
   "cell_type": "markdown",
   "id": "8a1aa476",
   "metadata": {},
   "source": [
    "### Let us understand splitting of the string"
   ]
  },
  {
   "cell_type": "code",
   "execution_count": 72,
   "id": "6cae7013",
   "metadata": {},
   "outputs": [
    {
     "data": {
      "text/plain": [
       "['I like apple', ' mangoes', ' bananas']"
      ]
     },
     "execution_count": 72,
     "metadata": {},
     "output_type": "execute_result"
    }
   ],
   "source": [
    "fruits = 'I like apple, mangoes, bananas'\n",
    "fruits.split(',')"
   ]
  },
  {
   "cell_type": "code",
   "execution_count": 73,
   "id": "c0567c53",
   "metadata": {},
   "outputs": [
    {
     "data": {
      "text/plain": [
       "['Pr', 'sid', 'nt Dr. Abdul Kalam was th', ' b', 'st pr', 'sid', 'nt of India']"
      ]
     },
     "execution_count": 73,
     "metadata": {},
     "output_type": "execute_result"
    }
   ],
   "source": [
    "str_final = 'President Dr. Abdul Kalam was the best president of India'\n",
    "str_final.split('e')"
   ]
  },
  {
   "cell_type": "markdown",
   "id": "77d22ac6",
   "metadata": {},
   "source": [
    "### Let us understand Tuple "
   ]
  },
  {
   "cell_type": "code",
   "execution_count": 74,
   "id": "2d082601",
   "metadata": {},
   "outputs": [
    {
     "data": {
      "text/plain": [
       "(1, 12.3, (3+5j), 'hello', True)"
      ]
     },
     "execution_count": 74,
     "metadata": {},
     "output_type": "execute_result"
    }
   ],
   "source": [
    "tup1 = (1,12.3,3+5j, \"hello\", True)\n",
    "tup1"
   ]
  },
  {
   "cell_type": "code",
   "execution_count": 75,
   "id": "4f6a22d6",
   "metadata": {},
   "outputs": [
    {
     "data": {
      "text/plain": [
       "tuple"
      ]
     },
     "execution_count": 75,
     "metadata": {},
     "output_type": "execute_result"
    }
   ],
   "source": [
    "type(tup1)"
   ]
  },
  {
   "cell_type": "markdown",
   "id": "7a03d28c",
   "metadata": {},
   "source": [
    "### Let us understand indexing of tuple "
   ]
  },
  {
   "cell_type": "code",
   "execution_count": 76,
   "id": "52fe8c1a",
   "metadata": {},
   "outputs": [
    {
     "data": {
      "text/plain": [
       "(4, True, 10.5, (4+5j), 'apple', False)"
      ]
     },
     "execution_count": 76,
     "metadata": {},
     "output_type": "execute_result"
    }
   ],
   "source": [
    "tup2 = (4,True,10.5,4+5j, 'apple',False)\n",
    "tup2"
   ]
  },
  {
   "cell_type": "markdown",
   "id": "8818f9e5",
   "metadata": {},
   "source": [
    "tup2[0]"
   ]
  },
  {
   "cell_type": "code",
   "execution_count": 78,
   "id": "4db6c2f5",
   "metadata": {},
   "outputs": [
    {
     "data": {
      "text/plain": [
       "(4, True, 10.5, (4+5j), 'apple', False)"
      ]
     },
     "execution_count": 78,
     "metadata": {},
     "output_type": "execute_result"
    }
   ],
   "source": [
    "tup2[0],tup2[1],tup2[2],tup2[3],tup2[4],tup2[5]"
   ]
  },
  {
   "cell_type": "code",
   "execution_count": 79,
   "id": "5180c499",
   "metadata": {},
   "outputs": [
    {
     "data": {
      "text/plain": [
       "(False, 'apple', (4+5j), 10.5, True, 4)"
      ]
     },
     "execution_count": 79,
     "metadata": {},
     "output_type": "execute_result"
    }
   ],
   "source": [
    "tup2[::-1]"
   ]
  },
  {
   "cell_type": "code",
   "execution_count": 80,
   "id": "b6281214",
   "metadata": {},
   "outputs": [
    {
     "data": {
      "text/plain": [
       "(10.5, (4+5j))"
      ]
     },
     "execution_count": 80,
     "metadata": {},
     "output_type": "execute_result"
    }
   ],
   "source": [
    "tup2[2:4]"
   ]
  },
  {
   "cell_type": "markdown",
   "id": "6ea0feea",
   "metadata": {},
   "source": [
    "### Let us try to modify the tuple"
   ]
  },
  {
   "cell_type": "code",
   "execution_count": 81,
   "id": "c11539ed",
   "metadata": {},
   "outputs": [
    {
     "ename": "TypeError",
     "evalue": "'tuple' object does not support item assignment",
     "output_type": "error",
     "traceback": [
      "\u001b[1;31m---------------------------------------------------------------------------\u001b[0m",
      "\u001b[1;31mTypeError\u001b[0m                                 Traceback (most recent call last)",
      "Input \u001b[1;32mIn [81]\u001b[0m, in \u001b[0;36m<cell line: 1>\u001b[1;34m()\u001b[0m\n\u001b[1;32m----> 1\u001b[0m tup2[\u001b[38;5;241m1\u001b[39m] \u001b[38;5;241m=\u001b[39m \u001b[38;5;124m'\u001b[39m\u001b[38;5;124mhello\u001b[39m\u001b[38;5;124m'\u001b[39m\n",
      "\u001b[1;31mTypeError\u001b[0m: 'tuple' object does not support item assignment"
     ]
    }
   ],
   "source": [
    "tup2[1] = 'hello'"
   ]
  },
  {
   "cell_type": "markdown",
   "id": "f7e0c035",
   "metadata": {},
   "source": [
    "### Let us understand tuple functions and methods "
   ]
  },
  {
   "cell_type": "code",
   "execution_count": 83,
   "id": "1893d1f5",
   "metadata": {},
   "outputs": [
    {
     "data": {
      "text/plain": [
       "(4, True, 10.5, (4+5j), 'apple', False)"
      ]
     },
     "execution_count": 83,
     "metadata": {},
     "output_type": "execute_result"
    }
   ],
   "source": [
    "tup2 = (4,True,10.5,4+5j, 'apple',False)\n",
    "tup2"
   ]
  },
  {
   "cell_type": "code",
   "execution_count": 84,
   "id": "19cd4ea5",
   "metadata": {},
   "outputs": [
    {
     "data": {
      "text/plain": [
       "6"
      ]
     },
     "execution_count": 84,
     "metadata": {},
     "output_type": "execute_result"
    }
   ],
   "source": [
    "len(tup2)"
   ]
  },
  {
   "cell_type": "markdown",
   "id": "1a3dc008",
   "metadata": {},
   "source": [
    "## let us do concatenating tuples "
   ]
  },
  {
   "cell_type": "code",
   "execution_count": 86,
   "id": "f4031ae2",
   "metadata": {},
   "outputs": [],
   "source": [
    "tuple1 = (1,2,3,4)\n",
    "tuple2 = (5,6,7,8)"
   ]
  },
  {
   "cell_type": "code",
   "execution_count": 87,
   "id": "68515822",
   "metadata": {},
   "outputs": [
    {
     "data": {
      "text/plain": [
       "(1, 2, 3, 4, 5, 6, 7, 8)"
      ]
     },
     "execution_count": 87,
     "metadata": {},
     "output_type": "execute_result"
    }
   ],
   "source": [
    "tuple1 + tuple2"
   ]
  },
  {
   "cell_type": "code",
   "execution_count": 88,
   "id": "ecbb2d94",
   "metadata": {},
   "outputs": [
    {
     "data": {
      "text/plain": [
       "(5, 6, 7, 8, 1, 2, 3, 4)"
      ]
     },
     "execution_count": 88,
     "metadata": {},
     "output_type": "execute_result"
    }
   ],
   "source": [
    "tuple2 + tuple1"
   ]
  },
  {
   "cell_type": "code",
   "execution_count": 90,
   "id": "ed7edb45",
   "metadata": {},
   "outputs": [
    {
     "data": {
      "text/plain": [
       "('apple', 300, 'apple', 300, 'apple', 300, 'apple', 300, 'apple', 300)"
      ]
     },
     "execution_count": 90,
     "metadata": {},
     "output_type": "execute_result"
    }
   ],
   "source": [
    "### Repeat tuple multiple times \n",
    "tup3 = ('apple',300)\n",
    "tup3 * 5"
   ]
  },
  {
   "cell_type": "code",
   "execution_count": 91,
   "id": "f4da4d9d",
   "metadata": {},
   "outputs": [
    {
     "data": {
      "text/plain": [
       "('apple', 300, 'apple', 300, 'apple', 300, 'apple', 300, 'apple', 300, 4, 5, 6)"
      ]
     },
     "execution_count": 91,
     "metadata": {},
     "output_type": "execute_result"
    }
   ],
   "source": [
    "### Let us multiply and Concatenating two tuples \n",
    "tup1 = ('apple', 300)\n",
    "tup2 = (4,5,6)\n",
    "tup1 * 5 + tup2"
   ]
  },
  {
   "cell_type": "code",
   "execution_count": 92,
   "id": "c96440a3",
   "metadata": {},
   "outputs": [
    {
     "data": {
      "text/plain": [
       "(4, 5, 6, 4, 5, 6, 4, 5, 6, 4, 5, 6, 4, 5, 6, 'apple', 300)"
      ]
     },
     "execution_count": 92,
     "metadata": {},
     "output_type": "execute_result"
    }
   ],
   "source": [
    "### Let us multiply and Concatenating two tuples \n",
    "tup1 = ('apple', 300)\n",
    "tup2 = (4,5,6)\n",
    "tup2 * 5 + tup1"
   ]
  },
  {
   "cell_type": "markdown",
   "id": "eadaaca9",
   "metadata": {},
   "source": [
    "### Find the minimum value in the tuple "
   ]
  },
  {
   "cell_type": "code",
   "execution_count": 93,
   "id": "9f400b4b",
   "metadata": {},
   "outputs": [
    {
     "data": {
      "text/plain": [
       "11"
      ]
     },
     "execution_count": 93,
     "metadata": {},
     "output_type": "execute_result"
    }
   ],
   "source": [
    "tup1 = (11,12,13,14,15,16,17,18,19,20)\n",
    "min(tup1)"
   ]
  },
  {
   "cell_type": "markdown",
   "id": "873dae3e",
   "metadata": {},
   "source": [
    "### Find the maximum value in the tuple "
   ]
  },
  {
   "cell_type": "code",
   "execution_count": 94,
   "id": "ba734f7e",
   "metadata": {},
   "outputs": [
    {
     "data": {
      "text/plain": [
       "20"
      ]
     },
     "execution_count": 94,
     "metadata": {},
     "output_type": "execute_result"
    }
   ],
   "source": [
    "tup1 = (11,12,13,14,15,16,17,18,19,20)\n",
    "max(tup1)"
   ]
  },
  {
   "cell_type": "markdown",
   "id": "41b794f0",
   "metadata": {},
   "source": [
    "### List in Python "
   ]
  },
  {
   "cell_type": "code",
   "execution_count": 95,
   "id": "3fce15be",
   "metadata": {},
   "outputs": [
    {
     "data": {
      "text/plain": [
       "[1, 'India', 3.14, True, False, (5+3j)]"
      ]
     },
     "execution_count": 95,
     "metadata": {},
     "output_type": "execute_result"
    }
   ],
   "source": [
    "l1 = [1,'India', 3.14, True, False, 5 +3j]\n",
    "l1"
   ]
  },
  {
   "cell_type": "markdown",
   "id": "e85106a9",
   "metadata": {},
   "source": [
    "### Extracting individual elements in list "
   ]
  },
  {
   "cell_type": "code",
   "execution_count": 99,
   "id": "9d4ff48f",
   "metadata": {},
   "outputs": [
    {
     "data": {
      "text/plain": [
       "(1, 'India', 3.14, True, False, (5+3j))"
      ]
     },
     "execution_count": 99,
     "metadata": {},
     "output_type": "execute_result"
    }
   ],
   "source": [
    "l1 = [1,'India', 3.14, True, False, 5 +3j]\n",
    "l1[0], l1[1], l1[2], l1[3],l1[4],l1[5]"
   ]
  },
  {
   "cell_type": "markdown",
   "id": "025d40a5",
   "metadata": {},
   "source": [
    "### Extracting sequence of elements in list "
   ]
  },
  {
   "cell_type": "code",
   "execution_count": 100,
   "id": "72c3fe63",
   "metadata": {},
   "outputs": [
    {
     "data": {
      "text/plain": [
       "[1, 'India', 3.14, True, False, (5+3j)]"
      ]
     },
     "execution_count": 100,
     "metadata": {},
     "output_type": "execute_result"
    }
   ],
   "source": [
    "l1 = [1,'India', 3.14, True, False, 5 +3j]\n",
    "l1[0:6]"
   ]
  },
  {
   "cell_type": "code",
   "execution_count": 98,
   "id": "bf51774c",
   "metadata": {},
   "outputs": [
    {
     "data": {
      "text/plain": [
       "[(5+3j), False, True, 3.14, 'India', 1]"
      ]
     },
     "execution_count": 98,
     "metadata": {},
     "output_type": "execute_result"
    }
   ],
   "source": [
    "l1 = [1,'India', 3.14, True, False, 5 +3j]\n",
    "l1[::-1]"
   ]
  },
  {
   "cell_type": "markdown",
   "id": "e157b87a",
   "metadata": {},
   "source": [
    "### Modifying a list "
   ]
  },
  {
   "cell_type": "code",
   "execution_count": 101,
   "id": "b7f3d1e7",
   "metadata": {},
   "outputs": [
    {
     "data": {
      "text/plain": [
       "[1, 'India', 3.14, True, False, (5+3j)]"
      ]
     },
     "execution_count": 101,
     "metadata": {},
     "output_type": "execute_result"
    }
   ],
   "source": [
    "l1 = [1,'India', 3.14, True, False, 5 +3j]\n",
    "l1"
   ]
  },
  {
   "cell_type": "code",
   "execution_count": 102,
   "id": "2211a64b",
   "metadata": {},
   "outputs": [
    {
     "data": {
      "text/plain": [
       "[100, 'India', 3.14, True, False, (5+3j)]"
      ]
     },
     "execution_count": 102,
     "metadata": {},
     "output_type": "execute_result"
    }
   ],
   "source": [
    "l1 = [1,'India', 3.14, True, False, 5 +3j]\n",
    "l1[0]=100\n",
    "l1"
   ]
  },
  {
   "cell_type": "code",
   "execution_count": 103,
   "id": "da90bc2a",
   "metadata": {},
   "outputs": [
    {
     "data": {
      "text/plain": [
       "[1, 'India', 3.14, True, False, (5+3j), 'Germany']"
      ]
     },
     "execution_count": 103,
     "metadata": {},
     "output_type": "execute_result"
    }
   ],
   "source": [
    "### append the element in the list \n",
    "l1 = [1,'India', 3.14, True, False, 5 +3j]\n",
    "l1.append('Germany')\n",
    "l1"
   ]
  },
  {
   "cell_type": "code",
   "execution_count": 105,
   "id": "ad64684a",
   "metadata": {},
   "outputs": [
    {
     "data": {
      "text/plain": [
       "[1, 'India', 3.14, True, False]"
      ]
     },
     "execution_count": 105,
     "metadata": {},
     "output_type": "execute_result"
    }
   ],
   "source": [
    "# remove element in the list \n",
    "\n",
    "l1 = [1,'India', 3.14, True, False, 5 +3j]\n",
    "l1.pop()\n",
    "l1"
   ]
  },
  {
   "cell_type": "code",
   "execution_count": 106,
   "id": "8ff29b73",
   "metadata": {},
   "outputs": [
    {
     "data": {
      "text/plain": [
       "[1, 3.14, True, False, (5+3j)]"
      ]
     },
     "execution_count": 106,
     "metadata": {},
     "output_type": "execute_result"
    }
   ],
   "source": [
    "# remove element in the list \n",
    "\n",
    "l1 = [1,'India', 3.14, True, False, 5 +3j]\n",
    "l1.remove('India')\n",
    "l1"
   ]
  },
  {
   "cell_type": "code",
   "execution_count": 107,
   "id": "9c6d5a7a",
   "metadata": {},
   "outputs": [
    {
     "data": {
      "text/plain": [
       "[(5+3j), False, True, 3.14, 'India', 1]"
      ]
     },
     "execution_count": 107,
     "metadata": {},
     "output_type": "execute_result"
    }
   ],
   "source": [
    "# reverse elements in the list \n",
    "\n",
    "l1 = [1,'India', 3.14, True, False, 5 +3j]\n",
    "l1.reverse()\n",
    "l1"
   ]
  },
  {
   "cell_type": "code",
   "execution_count": 108,
   "id": "e1f462ea",
   "metadata": {},
   "outputs": [
    {
     "data": {
      "text/plain": [
       "[1, 'usa', 'India', 3.14, True, False, (5+3j)]"
      ]
     },
     "execution_count": 108,
     "metadata": {},
     "output_type": "execute_result"
    }
   ],
   "source": [
    "# Add element in the list \n",
    "l1 = [1,'India', 3.14, True, False, 5 +3j]\n",
    "l1.insert(1,'usa')\n",
    "l1"
   ]
  },
  {
   "cell_type": "code",
   "execution_count": 110,
   "id": "528c1aa0",
   "metadata": {},
   "outputs": [
    {
     "data": {
      "text/plain": [
       "['apple', 'kiwi', 'pipeapple', 'strawberry', 'watermelon']"
      ]
     },
     "execution_count": 110,
     "metadata": {},
     "output_type": "execute_result"
    }
   ],
   "source": [
    "### Sorting a list in alphabetical order \n",
    "l1 = [\"pipeapple\", \"watermelon\", \"strawberry\", \"kiwi\", \"apple\"]\n",
    "l1.sort()\n",
    "l1"
   ]
  },
  {
   "cell_type": "code",
   "execution_count": 111,
   "id": "8d818ddf",
   "metadata": {},
   "outputs": [
    {
     "data": {
      "text/plain": [
       "['Pipeapple', 'Strawberry', 'apple', 'kiwi', 'watermelon']"
      ]
     },
     "execution_count": 111,
     "metadata": {},
     "output_type": "execute_result"
    }
   ],
   "source": [
    "### Sorting a list in alphabetical order \n",
    "l1 = [\"Pipeapple\", \"watermelon\", \"Strawberry\", \"kiwi\", \"apple\"]\n",
    "l1.sort()\n",
    "l1"
   ]
  },
  {
   "cell_type": "code",
   "execution_count": 112,
   "id": "ed07e213",
   "metadata": {},
   "outputs": [
    {
     "data": {
      "text/plain": [
       "[1, 4, 7, 10, 23, 24, 45, 67]"
      ]
     },
     "execution_count": 112,
     "metadata": {},
     "output_type": "execute_result"
    }
   ],
   "source": [
    "### Sorting a list in alphabetical order \n",
    "l1 = [23,24, 1,7,67,45,4, 10]\n",
    "l1.sort()\n",
    "l1"
   ]
  },
  {
   "cell_type": "code",
   "execution_count": 118,
   "id": "0d983d09",
   "metadata": {},
   "outputs": [
    {
     "data": {
      "text/plain": [
       "['Banana', 'Blueberry', 'apple', 'grapes']"
      ]
     },
     "execution_count": 118,
     "metadata": {},
     "output_type": "execute_result"
    }
   ],
   "source": [
    "### Sorting a list in alphabetical order \n",
    "l1 = [\"apple\",\"grapes\", \"Banana\",\"Blueberry\"]\n",
    "l1.sort()\n",
    "l1"
   ]
  },
  {
   "cell_type": "markdown",
   "id": "ac5fbba7",
   "metadata": {},
   "source": [
    "### List concatenating "
   ]
  },
  {
   "cell_type": "code",
   "execution_count": 119,
   "id": "d8e7c453",
   "metadata": {},
   "outputs": [
    {
     "data": {
      "text/plain": [
       "[1, 2, 3, 'a', 'b', 'c']"
      ]
     },
     "execution_count": 119,
     "metadata": {},
     "output_type": "execute_result"
    }
   ],
   "source": [
    "l1 = [1,2,3]\n",
    "l2 = ['a','b','c']\n",
    "l1+l2"
   ]
  },
  {
   "cell_type": "markdown",
   "id": "41f5fdcc",
   "metadata": {},
   "source": [
    "### Repeating elements \n"
   ]
  },
  {
   "cell_type": "code",
   "execution_count": 120,
   "id": "93900366",
   "metadata": {},
   "outputs": [
    {
     "data": {
      "text/plain": [
       "[1, 2, 3, 1, 2, 3, 1, 2, 3, 1, 2, 3]"
      ]
     },
     "execution_count": 120,
     "metadata": {},
     "output_type": "execute_result"
    }
   ],
   "source": [
    "l1 = [1,2,3]\n",
    "l1 * 4"
   ]
  },
  {
   "cell_type": "code",
   "execution_count": 121,
   "id": "44518bb0",
   "metadata": {},
   "outputs": [
    {
     "data": {
      "text/plain": [
       "[1, 2, 3, 1, 2, 3, 1, 2, 3, 'a', 'b', 'c']"
      ]
     },
     "execution_count": 121,
     "metadata": {},
     "output_type": "execute_result"
    }
   ],
   "source": [
    "l1 = [1,2,3]\n",
    "l2 = ['a','b','c']\n",
    "l1 * 3 +l2"
   ]
  },
  {
   "cell_type": "code",
   "execution_count": 123,
   "id": "b9f0e254",
   "metadata": {},
   "outputs": [
    {
     "data": {
      "text/plain": [
       "['a',\n",
       " 'b',\n",
       " 'c',\n",
       " 'a',\n",
       " 'b',\n",
       " 'c',\n",
       " 'a',\n",
       " 'b',\n",
       " 'c',\n",
       " 'a',\n",
       " 'b',\n",
       " 'c',\n",
       " 'a',\n",
       " 'b',\n",
       " 'c',\n",
       " 1,\n",
       " 2,\n",
       " 3]"
      ]
     },
     "execution_count": 123,
     "metadata": {},
     "output_type": "execute_result"
    }
   ],
   "source": [
    "l1 = [1,2,3]\n",
    "l2 = ['a','b','c']\n",
    "l2 * 5 + l1"
   ]
  },
  {
   "cell_type": "markdown",
   "id": "061b48fb",
   "metadata": {},
   "source": [
    "### Let us understand Dictionary "
   ]
  },
  {
   "cell_type": "code",
   "execution_count": 124,
   "id": "2d1ef996",
   "metadata": {},
   "outputs": [
    {
     "data": {
      "text/plain": [
       "{'Apple': 200, 'Guava': 100, 'Oranges': 150, 'Strawberries': 300}"
      ]
     },
     "execution_count": 124,
     "metadata": {},
     "output_type": "execute_result"
    }
   ],
   "source": [
    "d1 = {'Apple': 200, 'Guava': 100, 'Oranges':150, 'Strawberries': 300}\n",
    "d1"
   ]
  },
  {
   "cell_type": "code",
   "execution_count": 127,
   "id": "e78ab96f",
   "metadata": {},
   "outputs": [
    {
     "data": {
      "text/plain": [
       "dict"
      ]
     },
     "execution_count": 127,
     "metadata": {},
     "output_type": "execute_result"
    }
   ],
   "source": [
    "type(d1)"
   ]
  },
  {
   "cell_type": "code",
   "execution_count": 129,
   "id": "59b7dcd1",
   "metadata": {},
   "outputs": [
    {
     "data": {
      "text/plain": [
       "dict_keys(['Apple', 'Guava', 'Oranges', 'Strawberries'])"
      ]
     },
     "execution_count": 129,
     "metadata": {},
     "output_type": "execute_result"
    }
   ],
   "source": [
    "fruits = {'Apple': 200, 'Guava': 100, 'Oranges':150, 'Strawberries': 300}\n",
    "fruits.keys()"
   ]
  },
  {
   "cell_type": "code",
   "execution_count": 130,
   "id": "2ab85ed0",
   "metadata": {},
   "outputs": [
    {
     "data": {
      "text/plain": [
       "dict_values([200, 100, 150, 300])"
      ]
     },
     "execution_count": 130,
     "metadata": {},
     "output_type": "execute_result"
    }
   ],
   "source": [
    "fruits = {'Apple': 200, 'Guava': 100, 'Oranges':150, 'Strawberries': 300}\n",
    "fruits.values()"
   ]
  },
  {
   "cell_type": "code",
   "execution_count": 131,
   "id": "18b26d81",
   "metadata": {},
   "outputs": [
    {
     "data": {
      "text/plain": [
       "{'Apple': 300, 'Guava': 100, 'Oranges': 150, 'Strawberries': 300}"
      ]
     },
     "execution_count": 131,
     "metadata": {},
     "output_type": "execute_result"
    }
   ],
   "source": [
    "### modifying value of any specific key \n",
    "fruits = {'Apple': 200, 'Guava': 100, 'Oranges':150, 'Strawberries': 300}\n",
    "fruits['Apple'] = 300\n",
    "fruits"
   ]
  },
  {
   "cell_type": "code",
   "execution_count": null,
   "id": "c50dabbf",
   "metadata": {},
   "outputs": [],
   "source": []
  },
  {
   "cell_type": "code",
   "execution_count": null,
   "id": "268b8448",
   "metadata": {},
   "outputs": [],
   "source": []
  },
  {
   "cell_type": "code",
   "execution_count": null,
   "id": "edca812d",
   "metadata": {},
   "outputs": [],
   "source": []
  },
  {
   "cell_type": "code",
   "execution_count": null,
   "id": "acf63b7a",
   "metadata": {},
   "outputs": [],
   "source": []
  },
  {
   "cell_type": "code",
   "execution_count": null,
   "id": "d290405a",
   "metadata": {},
   "outputs": [],
   "source": []
  },
  {
   "cell_type": "code",
   "execution_count": null,
   "id": "3dbd87f3",
   "metadata": {},
   "outputs": [],
   "source": []
  },
  {
   "cell_type": "code",
   "execution_count": null,
   "id": "4e19ffa0",
   "metadata": {},
   "outputs": [],
   "source": []
  },
  {
   "cell_type": "code",
   "execution_count": null,
   "id": "0a1c8eeb",
   "metadata": {},
   "outputs": [],
   "source": []
  },
  {
   "cell_type": "code",
   "execution_count": null,
   "id": "01fd5fc3",
   "metadata": {},
   "outputs": [],
   "source": []
  },
  {
   "cell_type": "code",
   "execution_count": null,
   "id": "f0afdc32",
   "metadata": {},
   "outputs": [],
   "source": []
  },
  {
   "cell_type": "code",
   "execution_count": null,
   "id": "d1455720",
   "metadata": {},
   "outputs": [],
   "source": []
  },
  {
   "cell_type": "code",
   "execution_count": null,
   "id": "4738437c",
   "metadata": {},
   "outputs": [],
   "source": []
  },
  {
   "cell_type": "code",
   "execution_count": null,
   "id": "915cd7af",
   "metadata": {},
   "outputs": [],
   "source": []
  },
  {
   "cell_type": "code",
   "execution_count": null,
   "id": "17ffd4d9",
   "metadata": {},
   "outputs": [],
   "source": []
  },
  {
   "cell_type": "code",
   "execution_count": null,
   "id": "386979d8",
   "metadata": {},
   "outputs": [],
   "source": []
  },
  {
   "cell_type": "code",
   "execution_count": null,
   "id": "ddfb6ea4",
   "metadata": {},
   "outputs": [],
   "source": []
  },
  {
   "cell_type": "code",
   "execution_count": null,
   "id": "ef5cbf08",
   "metadata": {},
   "outputs": [],
   "source": []
  },
  {
   "cell_type": "code",
   "execution_count": null,
   "id": "984f54c3",
   "metadata": {},
   "outputs": [],
   "source": []
  },
  {
   "cell_type": "code",
   "execution_count": null,
   "id": "0c48b95e",
   "metadata": {},
   "outputs": [],
   "source": []
  },
  {
   "cell_type": "code",
   "execution_count": null,
   "id": "741b4e01",
   "metadata": {},
   "outputs": [],
   "source": []
  },
  {
   "cell_type": "code",
   "execution_count": null,
   "id": "466f51a2",
   "metadata": {},
   "outputs": [],
   "source": []
  },
  {
   "cell_type": "code",
   "execution_count": null,
   "id": "c02b4a1b",
   "metadata": {},
   "outputs": [],
   "source": []
  },
  {
   "cell_type": "code",
   "execution_count": null,
   "id": "5fb73ed0",
   "metadata": {},
   "outputs": [],
   "source": []
  },
  {
   "cell_type": "code",
   "execution_count": null,
   "id": "d266bc79",
   "metadata": {},
   "outputs": [],
   "source": []
  },
  {
   "cell_type": "code",
   "execution_count": null,
   "id": "fa87b088",
   "metadata": {},
   "outputs": [],
   "source": []
  },
  {
   "cell_type": "code",
   "execution_count": null,
   "id": "49dc69a4",
   "metadata": {},
   "outputs": [],
   "source": []
  },
  {
   "cell_type": "code",
   "execution_count": null,
   "id": "f9243bcf",
   "metadata": {},
   "outputs": [],
   "source": []
  },
  {
   "cell_type": "code",
   "execution_count": null,
   "id": "cd4e023e",
   "metadata": {},
   "outputs": [],
   "source": []
  },
  {
   "cell_type": "code",
   "execution_count": null,
   "id": "bdc8aa8c",
   "metadata": {},
   "outputs": [],
   "source": []
  },
  {
   "cell_type": "code",
   "execution_count": null,
   "id": "70b7b65f",
   "metadata": {},
   "outputs": [],
   "source": []
  },
  {
   "cell_type": "code",
   "execution_count": null,
   "id": "6dbf5e6b",
   "metadata": {},
   "outputs": [],
   "source": []
  },
  {
   "cell_type": "code",
   "execution_count": null,
   "id": "cd708e3b",
   "metadata": {},
   "outputs": [],
   "source": []
  },
  {
   "cell_type": "code",
   "execution_count": null,
   "id": "cd4883fb",
   "metadata": {},
   "outputs": [],
   "source": []
  },
  {
   "cell_type": "code",
   "execution_count": null,
   "id": "9570ef72",
   "metadata": {},
   "outputs": [],
   "source": []
  },
  {
   "cell_type": "code",
   "execution_count": null,
   "id": "4e8bd351",
   "metadata": {},
   "outputs": [],
   "source": []
  },
  {
   "cell_type": "code",
   "execution_count": null,
   "id": "b3c1fb3b",
   "metadata": {},
   "outputs": [],
   "source": []
  },
  {
   "cell_type": "code",
   "execution_count": null,
   "id": "64143ed6",
   "metadata": {},
   "outputs": [],
   "source": []
  },
  {
   "cell_type": "code",
   "execution_count": null,
   "id": "5745b27f",
   "metadata": {},
   "outputs": [],
   "source": []
  },
  {
   "cell_type": "code",
   "execution_count": null,
   "id": "b4f099c7",
   "metadata": {},
   "outputs": [],
   "source": []
  },
  {
   "cell_type": "code",
   "execution_count": null,
   "id": "75dfbe8a",
   "metadata": {},
   "outputs": [],
   "source": []
  },
  {
   "cell_type": "code",
   "execution_count": null,
   "id": "085e8520",
   "metadata": {},
   "outputs": [],
   "source": []
  },
  {
   "cell_type": "code",
   "execution_count": null,
   "id": "3403fd69",
   "metadata": {},
   "outputs": [],
   "source": []
  },
  {
   "cell_type": "code",
   "execution_count": null,
   "id": "8562cf98",
   "metadata": {},
   "outputs": [],
   "source": []
  },
  {
   "cell_type": "code",
   "execution_count": null,
   "id": "09f5e12f",
   "metadata": {},
   "outputs": [],
   "source": []
  }
 ],
 "metadata": {
  "kernelspec": {
   "display_name": "Python 3 (ipykernel)",
   "language": "python",
   "name": "python3"
  },
  "language_info": {
   "codemirror_mode": {
    "name": "ipython",
    "version": 3
   },
   "file_extension": ".py",
   "mimetype": "text/x-python",
   "name": "python",
   "nbconvert_exporter": "python",
   "pygments_lexer": "ipython3",
   "version": "3.11.5"
  }
 },
 "nbformat": 4,
 "nbformat_minor": 5
}
