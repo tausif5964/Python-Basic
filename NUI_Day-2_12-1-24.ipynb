{
 "cells": [
  {
   "cell_type": "markdown",
   "id": "240c2847",
   "metadata": {},
   "source": [
    "# Dictionary"
   ]
  },
  {
   "cell_type": "code",
   "execution_count": 1,
   "id": "fa530092",
   "metadata": {},
   "outputs": [],
   "source": [
    "dict1 ={\"apple\": 200,\"banana\":500,\"guava\":150,\"pineapple\":300}"
   ]
  },
  {
   "cell_type": "code",
   "execution_count": 2,
   "id": "f1f58a40",
   "metadata": {},
   "outputs": [
    {
     "data": {
      "text/plain": [
       "dict"
      ]
     },
     "execution_count": 2,
     "metadata": {},
     "output_type": "execute_result"
    }
   ],
   "source": [
    "type(dict1)"
   ]
  },
  {
   "cell_type": "markdown",
   "id": "999bf441",
   "metadata": {},
   "source": [
    "# kyes"
   ]
  },
  {
   "cell_type": "code",
   "execution_count": 3,
   "id": "4cd55994",
   "metadata": {},
   "outputs": [
    {
     "data": {
      "text/plain": [
       "dict_keys(['apple', 'banana', 'guava', 'pineapple'])"
      ]
     },
     "execution_count": 3,
     "metadata": {},
     "output_type": "execute_result"
    }
   ],
   "source": [
    "dict1.keys()"
   ]
  },
  {
   "cell_type": "markdown",
   "id": "ca242beb",
   "metadata": {},
   "source": [
    "# values"
   ]
  },
  {
   "cell_type": "code",
   "execution_count": 4,
   "id": "cd063846",
   "metadata": {},
   "outputs": [
    {
     "data": {
      "text/plain": [
       "dict_values([200, 500, 150, 300])"
      ]
     },
     "execution_count": 4,
     "metadata": {},
     "output_type": "execute_result"
    }
   ],
   "source": [
    "dict1.values()"
   ]
  },
  {
   "cell_type": "markdown",
   "id": "660a81e1",
   "metadata": {},
   "source": [
    "# adding new element"
   ]
  },
  {
   "cell_type": "code",
   "execution_count": 5,
   "id": "ada827fe",
   "metadata": {},
   "outputs": [],
   "source": [
    "dict1[\"Kiwi\"]=200"
   ]
  },
  {
   "cell_type": "code",
   "execution_count": 6,
   "id": "c2394ba7",
   "metadata": {},
   "outputs": [
    {
     "data": {
      "text/plain": [
       "{'apple': 200, 'banana': 500, 'guava': 150, 'pineapple': 300, 'Kiwi': 200}"
      ]
     },
     "execution_count": 6,
     "metadata": {},
     "output_type": "execute_result"
    }
   ],
   "source": [
    "dict1"
   ]
  },
  {
   "cell_type": "markdown",
   "id": "61f085a1",
   "metadata": {},
   "source": [
    "# changing the value of existing key "
   ]
  },
  {
   "cell_type": "code",
   "execution_count": 7,
   "id": "89bcb184",
   "metadata": {},
   "outputs": [],
   "source": [
    "dict1[\"kiWi\"]=100"
   ]
  },
  {
   "cell_type": "markdown",
   "id": "683dd03c",
   "metadata": {},
   "source": [
    "# removing the key and value from dictionary"
   ]
  },
  {
   "cell_type": "code",
   "execution_count": 8,
   "id": "66ac7507",
   "metadata": {},
   "outputs": [
    {
     "data": {
      "text/plain": [
       "200"
      ]
     },
     "execution_count": 8,
     "metadata": {},
     "output_type": "execute_result"
    }
   ],
   "source": [
    "dict1.pop(\"Kiwi\")"
   ]
  },
  {
   "cell_type": "code",
   "execution_count": 9,
   "id": "15450b6b",
   "metadata": {},
   "outputs": [
    {
     "data": {
      "text/plain": [
       "{'apple': 200, 'banana': 500, 'guava': 150, 'pineapple': 300, 'kiWi': 100}"
      ]
     },
     "execution_count": 9,
     "metadata": {},
     "output_type": "execute_result"
    }
   ],
   "source": [
    "dict1"
   ]
  },
  {
   "cell_type": "code",
   "execution_count": 10,
   "id": "645d9860",
   "metadata": {},
   "outputs": [
    {
     "data": {
      "text/plain": [
       "100"
      ]
     },
     "execution_count": 10,
     "metadata": {},
     "output_type": "execute_result"
    }
   ],
   "source": [
    "dict1.pop(\"kiWi\")"
   ]
  },
  {
   "cell_type": "code",
   "execution_count": 11,
   "id": "e3fca7f5",
   "metadata": {},
   "outputs": [
    {
     "data": {
      "text/plain": [
       "{'apple': 200, 'banana': 500, 'guava': 150, 'pineapple': 300}"
      ]
     },
     "execution_count": 11,
     "metadata": {},
     "output_type": "execute_result"
    }
   ],
   "source": [
    "dict1"
   ]
  },
  {
   "cell_type": "markdown",
   "id": "4b22f4fb",
   "metadata": {},
   "source": [
    "# update dictionary with another dictionary"
   ]
  },
  {
   "cell_type": "code",
   "execution_count": 12,
   "id": "8d4a4240",
   "metadata": {},
   "outputs": [],
   "source": [
    "D1 = {\"K1\":11,\"K2\":22,\"K3\":33}\n",
    "D2 = {\"k1\":12,\"k2\":13,\"k3\":14}"
   ]
  },
  {
   "cell_type": "code",
   "execution_count": 13,
   "id": "e26aa74e",
   "metadata": {},
   "outputs": [],
   "source": [
    "D1.update(D2)"
   ]
  },
  {
   "cell_type": "code",
   "execution_count": 14,
   "id": "6d51b40c",
   "metadata": {},
   "outputs": [
    {
     "data": {
      "text/plain": [
       "{'K1': 11, 'K2': 22, 'K3': 33, 'k1': 12, 'k2': 13, 'k3': 14}"
      ]
     },
     "execution_count": 14,
     "metadata": {},
     "output_type": "execute_result"
    }
   ],
   "source": [
    "D1"
   ]
  },
  {
   "cell_type": "markdown",
   "id": "d1f0d40e",
   "metadata": {},
   "source": [
    "# Sets\n",
    "it does not allow duplication in the set"
   ]
  },
  {
   "cell_type": "code",
   "execution_count": 15,
   "id": "0025c0a7",
   "metadata": {},
   "outputs": [],
   "source": [
    "S1 ={1,1.14,3.14,3.14,3.14,'india','india','tausif',3+2j}"
   ]
  },
  {
   "cell_type": "code",
   "execution_count": 16,
   "id": "9666095c",
   "metadata": {},
   "outputs": [
    {
     "data": {
      "text/plain": [
       "{(3+2j), 1, 1.14, 3.14, 'india', 'tausif'}"
      ]
     },
     "execution_count": 16,
     "metadata": {},
     "output_type": "execute_result"
    }
   ],
   "source": [
    "S1"
   ]
  },
  {
   "cell_type": "code",
   "execution_count": 17,
   "id": "e86cfd32",
   "metadata": {},
   "outputs": [
    {
     "data": {
      "text/plain": [
       "set"
      ]
     },
     "execution_count": 17,
     "metadata": {},
     "output_type": "execute_result"
    }
   ],
   "source": [
    "type(S1)"
   ]
  },
  {
   "cell_type": "markdown",
   "id": "6bfd1e80",
   "metadata": {},
   "source": [
    "# Update the set value\n",
    "we can add multiple values with the help of list"
   ]
  },
  {
   "cell_type": "code",
   "execution_count": 18,
   "id": "b4181dfe",
   "metadata": {},
   "outputs": [],
   "source": [
    "S1.add(1+3j)"
   ]
  },
  {
   "cell_type": "code",
   "execution_count": 19,
   "id": "870a92e7",
   "metadata": {},
   "outputs": [
    {
     "data": {
      "text/plain": [
       "{(1+3j), (3+2j), 1, 1.14, 3.14, 'india', 'tausif'}"
      ]
     },
     "execution_count": 19,
     "metadata": {},
     "output_type": "execute_result"
    }
   ],
   "source": [
    "S1"
   ]
  },
  {
   "cell_type": "code",
   "execution_count": 20,
   "id": "a2ee2485",
   "metadata": {},
   "outputs": [
    {
     "ename": "TypeError",
     "evalue": "set.add() takes exactly one argument (3 given)",
     "output_type": "error",
     "traceback": [
      "\u001b[1;31m---------------------------------------------------------------------------\u001b[0m",
      "\u001b[1;31mTypeError\u001b[0m                                 Traceback (most recent call last)",
      "Cell \u001b[1;32mIn[20], line 1\u001b[0m\n\u001b[1;32m----> 1\u001b[0m S1\u001b[38;5;241m.\u001b[39madd(\u001b[38;5;124m\"\u001b[39m\u001b[38;5;124mhello\u001b[39m\u001b[38;5;124m\"\u001b[39m,\u001b[38;5;241m1\u001b[39m,\u001b[38;5;28;01mTrue\u001b[39;00m)\n",
      "\u001b[1;31mTypeError\u001b[0m: set.add() takes exactly one argument (3 given)"
     ]
    }
   ],
   "source": [
    "S1.add(\"hello\",1,True)"
   ]
  },
  {
   "cell_type": "code",
   "execution_count": 21,
   "id": "08c87c73",
   "metadata": {},
   "outputs": [
    {
     "data": {
      "text/plain": [
       "{(1+3j), (3+2j), 1, 1.14, 20, 25, 3, 3.14, 'india', 'tausif', 'true'}"
      ]
     },
     "execution_count": 21,
     "metadata": {},
     "output_type": "execute_result"
    }
   ],
   "source": [
    "S1.update([1,20,3,25,'true',True])\n",
    "S1"
   ]
  },
  {
   "cell_type": "code",
   "execution_count": 22,
   "id": "c879a36f",
   "metadata": {},
   "outputs": [
    {
     "data": {
      "text/plain": [
       "{(1+3j),\n",
       " (3+2j),\n",
       " 1,\n",
       " 1.14,\n",
       " 20,\n",
       " 25,\n",
       " 3,\n",
       " 3.14,\n",
       " 'A',\n",
       " 'L',\n",
       " 'M',\n",
       " 'N',\n",
       " 'S',\n",
       " 'a',\n",
       " 'f',\n",
       " 'h',\n",
       " 'india',\n",
       " 'k',\n",
       " 'r',\n",
       " 's',\n",
       " 'tausif',\n",
       " 'true',\n",
       " 'u'}"
      ]
     },
     "execution_count": 22,
     "metadata": {},
     "output_type": "execute_result"
    }
   ],
   "source": [
    "S1.update('shahrukh','SALMAN','ususf')\n",
    "S1"
   ]
  },
  {
   "cell_type": "code",
   "execution_count": 23,
   "id": "799cd1c6",
   "metadata": {},
   "outputs": [],
   "source": [
    "S1.update({\"tausif\":200,\"Sabeer\":500,\"kureshi\":700})"
   ]
  },
  {
   "cell_type": "code",
   "execution_count": 24,
   "id": "7970f781",
   "metadata": {},
   "outputs": [
    {
     "data": {
      "text/plain": [
       "{(1+3j),\n",
       " (3+2j),\n",
       " 1,\n",
       " 1.14,\n",
       " 20,\n",
       " 25,\n",
       " 3,\n",
       " 3.14,\n",
       " 'A',\n",
       " 'L',\n",
       " 'M',\n",
       " 'N',\n",
       " 'S',\n",
       " 'Sabeer',\n",
       " 'a',\n",
       " 'f',\n",
       " 'h',\n",
       " 'india',\n",
       " 'k',\n",
       " 'kureshi',\n",
       " 'r',\n",
       " 's',\n",
       " 'tausif',\n",
       " 'true',\n",
       " 'u'}"
      ]
     },
     "execution_count": 24,
     "metadata": {},
     "output_type": "execute_result"
    }
   ],
   "source": [
    "S1"
   ]
  },
  {
   "cell_type": "code",
   "execution_count": 25,
   "id": "662d8887",
   "metadata": {},
   "outputs": [
    {
     "ename": "KeyError",
     "evalue": "'shahrukh'",
     "output_type": "error",
     "traceback": [
      "\u001b[1;31m---------------------------------------------------------------------------\u001b[0m",
      "\u001b[1;31mKeyError\u001b[0m                                  Traceback (most recent call last)",
      "Cell \u001b[1;32mIn[25], line 1\u001b[0m\n\u001b[1;32m----> 1\u001b[0m S1\u001b[38;5;241m.\u001b[39mremove(\u001b[38;5;124m\"\u001b[39m\u001b[38;5;124mshahrukh\u001b[39m\u001b[38;5;124m\"\u001b[39m)\n",
      "\u001b[1;31mKeyError\u001b[0m: 'shahrukh'"
     ]
    }
   ],
   "source": [
    "S1.remove(\"shahrukh\")"
   ]
  },
  {
   "cell_type": "code",
   "execution_count": 26,
   "id": "26312fc5",
   "metadata": {},
   "outputs": [
    {
     "ename": "TypeError",
     "evalue": "set.remove() takes exactly one argument (8 given)",
     "output_type": "error",
     "traceback": [
      "\u001b[1;31m---------------------------------------------------------------------------\u001b[0m",
      "\u001b[1;31mTypeError\u001b[0m                                 Traceback (most recent call last)",
      "Cell \u001b[1;32mIn[26], line 1\u001b[0m\n\u001b[1;32m----> 1\u001b[0m S1\u001b[38;5;241m.\u001b[39mremove(\u001b[38;5;124m\"\u001b[39m\u001b[38;5;124mSALMAN\u001b[39m\u001b[38;5;124m\"\u001b[39m,\u001b[38;5;124m\"\u001b[39m\u001b[38;5;124mususf\u001b[39m\u001b[38;5;124m\"\u001b[39m,\u001b[38;5;124m'\u001b[39m\u001b[38;5;124ms\u001b[39m\u001b[38;5;124m'\u001b[39m,\u001b[38;5;124m'\u001b[39m\u001b[38;5;124mr\u001b[39m\u001b[38;5;124m'\u001b[39m,\u001b[38;5;124m'\u001b[39m\u001b[38;5;124mu\u001b[39m\u001b[38;5;124m'\u001b[39m,\u001b[38;5;124m'\u001b[39m\u001b[38;5;124mA\u001b[39m\u001b[38;5;124m'\u001b[39m,\u001b[38;5;124m'\u001b[39m\u001b[38;5;124mL\u001b[39m\u001b[38;5;124m'\u001b[39m,\u001b[38;5;124m'\u001b[39m\u001b[38;5;124mM\u001b[39m\u001b[38;5;124m'\u001b[39m)\n",
      "\u001b[1;31mTypeError\u001b[0m: set.remove() takes exactly one argument (8 given)"
     ]
    }
   ],
   "source": [
    "S1.remove(\"SALMAN\",\"ususf\",'s','r','u','A','L','M')"
   ]
  },
  {
   "cell_type": "code",
   "execution_count": 27,
   "id": "18068fe0",
   "metadata": {},
   "outputs": [
    {
     "data": {
      "text/plain": [
       "{(1+3j),\n",
       " (3+2j),\n",
       " 1,\n",
       " 1.14,\n",
       " 20,\n",
       " 25,\n",
       " 3,\n",
       " 3.14,\n",
       " 'A',\n",
       " 'L',\n",
       " 'M',\n",
       " 'N',\n",
       " 'S',\n",
       " 'Sabeer',\n",
       " 'a',\n",
       " 'f',\n",
       " 'h',\n",
       " 'india',\n",
       " 'k',\n",
       " 'kureshi',\n",
       " 'r',\n",
       " 's',\n",
       " 'tausif',\n",
       " 'true',\n",
       " 'u'}"
      ]
     },
     "execution_count": 27,
     "metadata": {},
     "output_type": "execute_result"
    }
   ],
   "source": [
    "S1"
   ]
  },
  {
   "cell_type": "markdown",
   "id": "e3269453",
   "metadata": {},
   "source": [
    "# intersection of two Sets\n"
   ]
  },
  {
   "cell_type": "code",
   "execution_count": 28,
   "id": "a6f2ca2c",
   "metadata": {},
   "outputs": [
    {
     "data": {
      "text/plain": [
       "{1, 2, 3}"
      ]
     },
     "execution_count": 28,
     "metadata": {},
     "output_type": "execute_result"
    }
   ],
   "source": [
    "Sets ={1,2,3,4,5,6,7,8,9}\n",
    "sets ={'A','B','C','D','E',1,2,3,55,44}\n",
    "Sets.intersection(sets)"
   ]
  },
  {
   "cell_type": "code",
   "execution_count": null,
   "id": "80c1d741",
   "metadata": {},
   "outputs": [],
   "source": []
  },
  {
   "cell_type": "code",
   "execution_count": null,
   "id": "9bf167e2",
   "metadata": {},
   "outputs": [],
   "source": []
  },
  {
   "cell_type": "code",
   "execution_count": null,
   "id": "d731d7cb",
   "metadata": {},
   "outputs": [],
   "source": []
  },
  {
   "cell_type": "markdown",
   "id": "06cfbbc8",
   "metadata": {},
   "source": [
    "# starting with if.....else.."
   ]
  },
  {
   "cell_type": "code",
   "execution_count": 29,
   "id": "df32ca6b",
   "metadata": {},
   "outputs": [
    {
     "name": "stdout",
     "output_type": "stream",
     "text": [
      "Enter first Digit: 10\n",
      "enter second digit: 15\n",
      "enter third digit: 25\n",
      "third digit is greater\n"
     ]
    }
   ],
   "source": [
    "a = int(input(\"Enter first Digit: \"))\n",
    "b = int(input(\"enter second digit: \"))\n",
    "c = int(input(\"enter third digit: \"))\n",
    "\n",
    "\n",
    "if a>b and a>c:\n",
    "    print(\"first digit is greater\")\n",
    "    \n",
    "elif a<b and b>c:\n",
    "    print(\"second digit is greater\")\n",
    "\n",
    "elif a<b and b<c:\n",
    "    print(\"third digit is greater\")"
   ]
  },
  {
   "cell_type": "markdown",
   "id": "ae2194b5",
   "metadata": {},
   "source": [
    "# if... else with tuple\n"
   ]
  },
  {
   "cell_type": "code",
   "execution_count": 30,
   "id": "0c3f6271",
   "metadata": {},
   "outputs": [],
   "source": [
    "tuple1 =(\"tausif\",\"sabeer\",\"kureshi\",1)\n",
    "tuple2 =(\"tausif\",\"sabeer\",\"kureshi\",1)"
   ]
  },
  {
   "cell_type": "code",
   "execution_count": 31,
   "id": "0edf5e31",
   "metadata": {},
   "outputs": [
    {
     "name": "stdout",
     "output_type": "stream",
     "text": [
      "both are the same \n"
     ]
    }
   ],
   "source": [
    "if tuple1 == tuple2:\n",
    "    print(\"both are the same \")\n",
    "else:\n",
    "    print(\"both are not same\")"
   ]
  },
  {
   "cell_type": "code",
   "execution_count": 32,
   "id": "e55a2076",
   "metadata": {},
   "outputs": [
    {
     "name": "stdout",
     "output_type": "stream",
     "text": [
      "not present\n"
     ]
    }
   ],
   "source": [
    "if 'Raji' in tuple1:\n",
    "    print(\"present\")\n",
    "else:\n",
    "    print(\"not present\")"
   ]
  },
  {
   "cell_type": "code",
   "execution_count": 35,
   "id": "c48ebc5d",
   "metadata": {},
   "outputs": [],
   "source": [
    "i=0\n",
    "while i==:\n",
    "    print(i)\n",
    "    i+=1"
   ]
  },
  {
   "cell_type": "markdown",
   "id": "08c415ee",
   "metadata": {},
   "source": [
    "# if else with list\n"
   ]
  },
  {
   "cell_type": "code",
   "execution_count": 36,
   "id": "9b5b9c86",
   "metadata": {},
   "outputs": [],
   "source": [
    "l1 = [1,'tausif',3+2j,True]"
   ]
  },
  {
   "cell_type": "code",
   "execution_count": 38,
   "id": "5ebfb52e",
   "metadata": {},
   "outputs": [
    {
     "data": {
      "text/plain": [
       "1"
      ]
     },
     "execution_count": 38,
     "metadata": {},
     "output_type": "execute_result"
    }
   ],
   "source": [
    "l1[0]"
   ]
  },
  {
   "cell_type": "code",
   "execution_count": 39,
   "id": "5f351069",
   "metadata": {},
   "outputs": [
    {
     "name": "stdout",
     "output_type": "stream",
     "text": [
      "True\n"
     ]
    }
   ],
   "source": [
    "if l1[3]==True:\n",
    "    print(l1[3])"
   ]
  },
  {
   "cell_type": "code",
   "execution_count": 45,
   "id": "2f2eaee1",
   "metadata": {},
   "outputs": [
    {
     "name": "stdout",
     "output_type": "stream",
     "text": [
      "Enter list element: true,55,True\n"
     ]
    }
   ],
   "source": [
    "a = input(\"Enter list element: \")\n",
    "l1 = [a]  # Create the list after getting the input"
   ]
  },
  {
   "cell_type": "code",
   "execution_count": 46,
   "id": "12f24f0a",
   "metadata": {},
   "outputs": [
    {
     "data": {
      "text/plain": [
       "['true,55,True']"
      ]
     },
     "execution_count": 46,
     "metadata": {},
     "output_type": "execute_result"
    }
   ],
   "source": [
    "l1"
   ]
  },
  {
   "cell_type": "code",
   "execution_count": null,
   "id": "52fb270b",
   "metadata": {},
   "outputs": [],
   "source": []
  },
  {
   "cell_type": "code",
   "execution_count": null,
   "id": "57b84bf8",
   "metadata": {},
   "outputs": [],
   "source": []
  },
  {
   "cell_type": "code",
   "execution_count": null,
   "id": "cd10d88e",
   "metadata": {},
   "outputs": [],
   "source": []
  },
  {
   "cell_type": "code",
   "execution_count": null,
   "id": "66700f15",
   "metadata": {},
   "outputs": [],
   "source": []
  },
  {
   "cell_type": "code",
   "execution_count": null,
   "id": "0c967a58",
   "metadata": {},
   "outputs": [],
   "source": []
  },
  {
   "cell_type": "markdown",
   "id": "1ba055e7",
   "metadata": {},
   "source": [
    "#  if... else with dictionaty\n"
   ]
  },
  {
   "cell_type": "code",
   "execution_count": 48,
   "id": "2930e970",
   "metadata": {},
   "outputs": [],
   "source": [
    "d1 ={\"kk1\":11,\"kk2\":22,\"kk3\":33}\n",
    "d2 ={\"k1k\":12,\"k2k\":22,\"k2k\":32}"
   ]
  },
  {
   "cell_type": "code",
   "execution_count": 50,
   "id": "6e357cf4",
   "metadata": {},
   "outputs": [
    {
     "ename": "KeyError",
     "evalue": "'kki'",
     "output_type": "error",
     "traceback": [
      "\u001b[1;31m---------------------------------------------------------------------------\u001b[0m",
      "\u001b[1;31mKeyError\u001b[0m                                  Traceback (most recent call last)",
      "Cell \u001b[1;32mIn[50], line 3\u001b[0m\n\u001b[0;32m      1\u001b[0m i \u001b[38;5;241m=\u001b[39m \u001b[38;5;241m0\u001b[39m\n\u001b[0;32m      2\u001b[0m \u001b[38;5;28;01mwhile\u001b[39;00m i\u001b[38;5;241m<\u001b[39m\u001b[38;5;241m3\u001b[39m:\n\u001b[1;32m----> 3\u001b[0m     \u001b[38;5;28;01mif\u001b[39;00m d1[\u001b[38;5;124m\"\u001b[39m\u001b[38;5;124mkki\u001b[39m\u001b[38;5;124m\"\u001b[39m]\u001b[38;5;241m==\u001b[39md2[\u001b[38;5;124m\"\u001b[39m\u001b[38;5;124mkik\u001b[39m\u001b[38;5;124m\"\u001b[39m]:\n\u001b[0;32m      4\u001b[0m         \u001b[38;5;28mprint\u001b[39m(\u001b[38;5;124m\"\u001b[39m\u001b[38;5;124mmatches at key value\u001b[39m\u001b[38;5;124m\"\u001b[39m\u001b[38;5;241m+\u001b[39mkki\u001b[38;5;241m+\u001b[39m\u001b[38;5;124m\"\u001b[39m\u001b[38;5;124mand\u001b[39m\u001b[38;5;124m\"\u001b[39m\u001b[38;5;241m+\u001b[39mkik)\n",
      "\u001b[1;31mKeyError\u001b[0m: 'kki'"
     ]
    }
   ],
   "source": [
    "i = 0\n",
    "while i<3:\n",
    "    if d1[\"\"]==d2[\"kik\"]:\n",
    "        print(\"matches at key value\"+kki+\"and\"+kik)"
   ]
  },
  {
   "cell_type": "code",
   "execution_count": null,
   "id": "2574c611",
   "metadata": {},
   "outputs": [],
   "source": []
  },
  {
   "cell_type": "code",
   "execution_count": null,
   "id": "64ee7a26",
   "metadata": {},
   "outputs": [],
   "source": []
  },
  {
   "cell_type": "code",
   "execution_count": null,
   "id": "67e0a389",
   "metadata": {},
   "outputs": [],
   "source": []
  },
  {
   "cell_type": "code",
   "execution_count": null,
   "id": "f9bf6600",
   "metadata": {},
   "outputs": [],
   "source": []
  },
  {
   "cell_type": "code",
   "execution_count": null,
   "id": "10b7276c",
   "metadata": {},
   "outputs": [],
   "source": []
  },
  {
   "cell_type": "code",
   "execution_count": null,
   "id": "520b0e27",
   "metadata": {},
   "outputs": [],
   "source": []
  },
  {
   "cell_type": "markdown",
   "id": "62fe7c63",
   "metadata": {},
   "source": [
    "# while loop statement\n"
   ]
  },
  {
   "cell_type": "code",
   "execution_count": 58,
   "id": "934332c7",
   "metadata": {},
   "outputs": [
    {
     "name": "stdout",
     "output_type": "stream",
     "text": [
      "enter value: 180\n",
      "180\n",
      "360\n",
      "540\n",
      "720\n",
      "900\n"
     ]
    }
   ],
   "source": [
    "i=1\n",
    "a=int(input(\"enter value: \"))\n",
    "while i<=1000:\n",
    "    if i % a ==0:\n",
    "        print(i)\n",
    "    i=i+1"
   ]
  },
  {
   "cell_type": "code",
   "execution_count": 80,
   "id": "76c48d0d",
   "metadata": {},
   "outputs": [
    {
     "name": "stdout",
     "output_type": "stream",
     "text": [
      "enter number 5\n",
      "*\n",
      "**\n",
      "***\n",
      "****\n",
      "*****\n"
     ]
    }
   ],
   "source": [
    "a = int(input(\"enter number \"))\n",
    "\n",
    "i=1\n",
    "while i<=a:\n",
    "   \n",
    "    print(i*\"*\")\n",
    "  \n",
    "    i=i+1 "
   ]
  },
  {
   "cell_type": "code",
   "execution_count": null,
   "id": "e68e0769",
   "metadata": {},
   "outputs": [],
   "source": []
  },
  {
   "cell_type": "code",
   "execution_count": null,
   "id": "ee1a695b",
   "metadata": {},
   "outputs": [],
   "source": []
  },
  {
   "cell_type": "code",
   "execution_count": null,
   "id": "bed9565a",
   "metadata": {},
   "outputs": [],
   "source": []
  },
  {
   "cell_type": "code",
   "execution_count": null,
   "id": "c7ba8db6",
   "metadata": {},
   "outputs": [],
   "source": []
  },
  {
   "cell_type": "code",
   "execution_count": null,
   "id": "25066839",
   "metadata": {},
   "outputs": [],
   "source": []
  },
  {
   "cell_type": "code",
   "execution_count": null,
   "id": "f232d720",
   "metadata": {},
   "outputs": [],
   "source": []
  },
  {
   "cell_type": "code",
   "execution_count": null,
   "id": "65be8a9b",
   "metadata": {},
   "outputs": [],
   "source": []
  },
  {
   "cell_type": "code",
   "execution_count": null,
   "id": "48dac842",
   "metadata": {},
   "outputs": [],
   "source": []
  },
  {
   "cell_type": "code",
   "execution_count": null,
   "id": "ad5e6ee2",
   "metadata": {},
   "outputs": [],
   "source": []
  },
  {
   "cell_type": "code",
   "execution_count": null,
   "id": "beabf54e",
   "metadata": {},
   "outputs": [],
   "source": []
  },
  {
   "cell_type": "code",
   "execution_count": null,
   "id": "16219c02",
   "metadata": {},
   "outputs": [],
   "source": []
  },
  {
   "cell_type": "code",
   "execution_count": null,
   "id": "870dab06",
   "metadata": {},
   "outputs": [],
   "source": []
  },
  {
   "cell_type": "code",
   "execution_count": 89,
   "id": "1bd65ce4",
   "metadata": {},
   "outputs": [],
   "source": [
    "\n",
    "\n",
    "def addition():\n",
    "    return a+b\n",
    "def multiplication():\n",
    "    return a*b\n",
    "def division():\n",
    "    return a/b\n",
    "def substraction():\n",
    "    return a-b\n"
   ]
  },
  {
   "cell_type": "code",
   "execution_count": 90,
   "id": "e349e225",
   "metadata": {},
   "outputs": [
    {
     "name": "stdout",
     "output_type": "stream",
     "text": [
      "enter the nunber: 4\n",
      "enter the number: 5\n",
      "***main***\n",
      "        1.multiplication\n",
      "        2.addition\n",
      "        3.substration\n",
      "        4. division\n",
      "ebter the operation number: 2\n"
     ]
    },
    {
     "ename": "TypeError",
     "evalue": "addition() takes 0 positional arguments but 2 were given",
     "output_type": "error",
     "traceback": [
      "\u001b[1;31m---------------------------------------------------------------------------\u001b[0m",
      "\u001b[1;31mTypeError\u001b[0m                                 Traceback (most recent call last)",
      "Cell \u001b[1;32mIn[90], line 12\u001b[0m\n\u001b[0;32m     10\u001b[0m     multiplication(a,b)\n\u001b[0;32m     11\u001b[0m \u001b[38;5;28;01melif\u001b[39;00m x\u001b[38;5;241m==\u001b[39m\u001b[38;5;241m2\u001b[39m:\n\u001b[1;32m---> 12\u001b[0m     addition(a,b)\n\u001b[0;32m     13\u001b[0m \u001b[38;5;28;01melif\u001b[39;00m x\u001b[38;5;241m==\u001b[39m\u001b[38;5;241m3\u001b[39m:\n\u001b[0;32m     14\u001b[0m     substraction(a,b)\n",
      "\u001b[1;31mTypeError\u001b[0m: addition() takes 0 positional arguments but 2 were given"
     ]
    }
   ],
   "source": [
    "a = int(input(\"enter the nunber: \"))\n",
    "b = int(input(\"enter the number: \"))\n",
    "print('''***main***\n",
    "        1.multiplication\n",
    "        2.addition\n",
    "        3.substration\n",
    "        4. division''')\n",
    "x = int(input(\"ebter the operation number: \"))\n",
    "if x==1 :\n",
    "    multiplication(a,b)\n",
    "elif x==2:\n",
    "    addition(a,b)\n",
    "elif x==3:\n",
    "    substraction(a,b)\n",
    "else:\n",
    "    division(a,b)"
   ]
  },
  {
   "cell_type": "code",
   "execution_count": 91,
   "id": "e4906815",
   "metadata": {},
   "outputs": [
    {
     "data": {
      "text/plain": [
       "400"
      ]
     },
     "execution_count": 91,
     "metadata": {},
     "output_type": "execute_result"
    }
   ],
   "source": [
    "def multiplication_20(x):\n",
    "    return x*20\n",
    "multiplication_20(20)"
   ]
  },
  {
   "cell_type": "code",
   "execution_count": null,
   "id": "267e3aa3",
   "metadata": {},
   "outputs": [],
   "source": []
  },
  {
   "cell_type": "code",
   "execution_count": null,
   "id": "3674ad9c",
   "metadata": {},
   "outputs": [],
   "source": []
  }
 ],
 "metadata": {
  "kernelspec": {
   "display_name": "Python 3 (ipykernel)",
   "language": "python",
   "name": "python3"
  },
  "language_info": {
   "codemirror_mode": {
    "name": "ipython",
    "version": 3
   },
   "file_extension": ".py",
   "mimetype": "text/x-python",
   "name": "python",
   "nbconvert_exporter": "python",
   "pygments_lexer": "ipython3",
   "version": "3.11.5"
  }
 },
 "nbformat": 4,
 "nbformat_minor": 5
}
