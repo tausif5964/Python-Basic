{
 "cells": [
  {
   "cell_type": "markdown",
   "id": "f2612d4e",
   "metadata": {},
   "source": [
    "# Numpy "
   ]
  },
  {
   "cell_type": "markdown",
   "id": "4293da3b",
   "metadata": {},
   "source": [
    "## numpy stands for numeric python and it is the core library for numeric and scientific computing"
   ]
  },
  {
   "cell_type": "markdown",
   "id": "feda9b09",
   "metadata": {},
   "source": [
    "## it consists of multi- dimensional array object and collection of routine for processing those array"
   ]
  },
  {
   "cell_type": "markdown",
   "id": "ef2b1a73",
   "metadata": {},
   "source": [
    "## import the library in your applications by adding the import keyboard and use alias np:"
   ]
  },
  {
   "cell_type": "code",
   "execution_count": 1,
   "id": "71dada0c",
   "metadata": {},
   "outputs": [
    {
     "name": "stdout",
     "output_type": "stream",
     "text": [
      "Requirement already satisfied: numpy in c:\\users\\tausi\\anaconda3\\lib\\site-packages (1.24.3)\n",
      "Note: you may need to restart the kernel to use updated packages.\n"
     ]
    },
    {
     "name": "stderr",
     "output_type": "stream",
     "text": [
      "\n",
      "[notice] A new release of pip is available: 23.2.1 -> 23.3.2\n",
      "[notice] To update, run: python.exe -m pip install --upgrade pip\n"
     ]
    }
   ],
   "source": [
    "pip install numpy"
   ]
  },
  {
   "cell_type": "code",
   "execution_count": 2,
   "id": "5944d605",
   "metadata": {},
   "outputs": [
    {
     "name": "stdout",
     "output_type": "stream",
     "text": [
      "1.24.3\n"
     ]
    }
   ],
   "source": [
    "import numpy as np\n",
    "print(np.__version__)"
   ]
  },
  {
   "cell_type": "markdown",
   "id": "10a01e87",
   "metadata": {},
   "source": [
    "## single dimensional array"
   ]
  },
  {
   "cell_type": "code",
   "execution_count": 3,
   "id": "6c963914",
   "metadata": {},
   "outputs": [
    {
     "data": {
      "text/plain": [
       "list"
      ]
     },
     "execution_count": 3,
     "metadata": {},
     "output_type": "execute_result"
    }
   ],
   "source": [
    "l1 = [1,2,3,4,5,6,7,8,9]\n",
    "type(l1)"
   ]
  },
  {
   "cell_type": "code",
   "execution_count": 4,
   "id": "fb1d1e5a",
   "metadata": {},
   "outputs": [
    {
     "data": {
      "text/plain": [
       "array([1, 2, 3, 4, 5, 6, 7, 8, 9])"
      ]
     },
     "execution_count": 4,
     "metadata": {},
     "output_type": "execute_result"
    }
   ],
   "source": [
    "import numpy as np\n",
    "n1 =  np.array(l1)\n",
    "n1"
   ]
  },
  {
   "cell_type": "code",
   "execution_count": 5,
   "id": "9bfcdbe9",
   "metadata": {},
   "outputs": [
    {
     "data": {
      "text/plain": [
       "numpy.ndarray"
      ]
     },
     "execution_count": 5,
     "metadata": {},
     "output_type": "execute_result"
    }
   ],
   "source": [
    "type(n1)"
   ]
  },
  {
   "cell_type": "markdown",
   "id": "8c34a095",
   "metadata": {},
   "source": [
    "## multi-dimensional array"
   ]
  },
  {
   "cell_type": "code",
   "execution_count": 6,
   "id": "e4361f41",
   "metadata": {},
   "outputs": [
    {
     "data": {
      "text/plain": [
       "array([[1, 2, 3],\n",
       "       [4, 5, 6],\n",
       "       [7, 8, 9]])"
      ]
     },
     "execution_count": 6,
     "metadata": {},
     "output_type": "execute_result"
    }
   ],
   "source": [
    "import numpy as np\n",
    "n2 = np.array([[1,2,3],[4,5,6],[7,8,9]])\n",
    "n2"
   ]
  },
  {
   "cell_type": "code",
   "execution_count": 7,
   "id": "b6df4c75",
   "metadata": {},
   "outputs": [
    {
     "data": {
      "text/plain": [
       "numpy.ndarray"
      ]
     },
     "execution_count": 7,
     "metadata": {},
     "output_type": "execute_result"
    }
   ],
   "source": [
    "type(n2)"
   ]
  },
  {
   "cell_type": "code",
   "execution_count": 8,
   "id": "009924e0",
   "metadata": {},
   "outputs": [
    {
     "ename": "ValueError",
     "evalue": "setting an array element with a sequence. The requested array has an inhomogeneous shape after 1 dimensions. The detected shape was (2,) + inhomogeneous part.",
     "output_type": "error",
     "traceback": [
      "\u001b[1;31m---------------------------------------------------------------------------\u001b[0m",
      "\u001b[1;31mValueError\u001b[0m                                Traceback (most recent call last)",
      "Cell \u001b[1;32mIn[8], line 2\u001b[0m\n\u001b[0;32m      1\u001b[0m \u001b[38;5;28;01mimport\u001b[39;00m \u001b[38;5;21;01mnumpy\u001b[39;00m \u001b[38;5;28;01mas\u001b[39;00m \u001b[38;5;21;01mnp\u001b[39;00m\n\u001b[1;32m----> 2\u001b[0m n3 \u001b[38;5;241m=\u001b[39m np\u001b[38;5;241m.\u001b[39marray([[\u001b[38;5;241m1\u001b[39m,\u001b[38;5;241m2\u001b[39m,\u001b[38;5;241m3\u001b[39m],[\u001b[38;5;241m4\u001b[39m,\u001b[38;5;241m5\u001b[39m]])\n\u001b[0;32m      3\u001b[0m n3\n",
      "\u001b[1;31mValueError\u001b[0m: setting an array element with a sequence. The requested array has an inhomogeneous shape after 1 dimensions. The detected shape was (2,) + inhomogeneous part."
     ]
    }
   ],
   "source": [
    "import numpy as np\n",
    "n3 = np.array([[1,2,3],[4,5]])\n",
    "n3"
   ]
  },
  {
   "cell_type": "code",
   "execution_count": 9,
   "id": "5747e636",
   "metadata": {},
   "outputs": [
    {
     "data": {
      "text/plain": [
       "array([[0., 0.]])"
      ]
     },
     "execution_count": 9,
     "metadata": {},
     "output_type": "execute_result"
    }
   ],
   "source": [
    "#np.zeros((no.of rows,no.of coluns))\n",
    "import numpy as np\n",
    "n4 = np.zeros((1,2))\n",
    "n4"
   ]
  },
  {
   "cell_type": "code",
   "execution_count": 10,
   "id": "2bfd7a37",
   "metadata": {},
   "outputs": [
    {
     "data": {
      "text/plain": [
       "array([[1., 1., 1., 1., 1.],\n",
       "       [1., 1., 1., 1., 1.],\n",
       "       [1., 1., 1., 1., 1.]])"
      ]
     },
     "execution_count": 10,
     "metadata": {},
     "output_type": "execute_result"
    }
   ],
   "source": [
    "# np.oned((no.of rows,no. of columns))\n",
    "import numpy as np\n",
    "n5 = np.ones((3,5))\n",
    "n5"
   ]
  },
  {
   "cell_type": "markdown",
   "id": "2151a6b0",
   "metadata": {},
   "source": [
    "# initialize numpy with same number"
   ]
  },
  {
   "cell_type": "code",
   "execution_count": 11,
   "id": "f55b699c",
   "metadata": {},
   "outputs": [
    {
     "data": {
      "text/plain": [
       "array([[10, 10],\n",
       "       [10, 10]])"
      ]
     },
     "execution_count": 11,
     "metadata": {},
     "output_type": "execute_result"
    }
   ],
   "source": [
    "import numpy as np\n",
    "n6 = np.full((2,2),10)\n",
    "n6"
   ]
  },
  {
   "cell_type": "code",
   "execution_count": 12,
   "id": "e111a0e1",
   "metadata": {},
   "outputs": [
    {
     "data": {
      "text/plain": [
       "array([[125, 125, 125, 125, 125, 125, 125, 125, 125],\n",
       "       [125, 125, 125, 125, 125, 125, 125, 125, 125],\n",
       "       [125, 125, 125, 125, 125, 125, 125, 125, 125],\n",
       "       [125, 125, 125, 125, 125, 125, 125, 125, 125],\n",
       "       [125, 125, 125, 125, 125, 125, 125, 125, 125]])"
      ]
     },
     "execution_count": 12,
     "metadata": {},
     "output_type": "execute_result"
    }
   ],
   "source": [
    "import numpy as np\n",
    "n7 = np.full((5,9),125)\n",
    "n7"
   ]
  },
  {
   "cell_type": "markdown",
   "id": "ab2f074d",
   "metadata": {},
   "source": [
    "# initialize numpy with range "
   ]
  },
  {
   "cell_type": "code",
   "execution_count": 13,
   "id": "a9c383aa",
   "metadata": {},
   "outputs": [
    {
     "data": {
      "text/plain": [
       "array([ 1,  2,  3,  4,  5,  6,  7,  8,  9, 10, 11, 12, 13, 14, 15, 16, 17,\n",
       "       18, 19])"
      ]
     },
     "execution_count": 13,
     "metadata": {},
     "output_type": "execute_result"
    }
   ],
   "source": [
    "import numpy as np\n",
    "n8 = np.arange(1,20)\n",
    "n8"
   ]
  },
  {
   "cell_type": "code",
   "execution_count": 14,
   "id": "831d4bff",
   "metadata": {},
   "outputs": [
    {
     "data": {
      "text/plain": [
       "array([ 1,  4,  7, 10, 13, 16, 19])"
      ]
     },
     "execution_count": 14,
     "metadata": {},
     "output_type": "execute_result"
    }
   ],
   "source": [
    "#np.arange(lower limit,upper limit,increment value(by default 1))\n",
    "import numpy as np\n",
    "n9 = np.arange(1,20,3)\n",
    "n9"
   ]
  },
  {
   "cell_type": "markdown",
   "id": "90df8b68",
   "metadata": {},
   "source": [
    "# random number generator with numpy array"
   ]
  },
  {
   "cell_type": "code",
   "execution_count": 15,
   "id": "3e833975",
   "metadata": {},
   "outputs": [
    {
     "data": {
      "text/plain": [
       "array([78, 99, 48, 50, 55, 84, 84, 32, 12, 73])"
      ]
     },
     "execution_count": 15,
     "metadata": {},
     "output_type": "execute_result"
    }
   ],
   "source": [
    "#np.random.randint(lower limit, upper limit, number of elements in array)\n",
    "import numpy as np\n",
    "n10 = np.random.randint(1,100,10)\n",
    "n10"
   ]
  },
  {
   "cell_type": "code",
   "execution_count": 16,
   "id": "e55b16ab",
   "metadata": {},
   "outputs": [
    {
     "data": {
      "text/plain": [
       "array([4, 5])"
      ]
     },
     "execution_count": 16,
     "metadata": {},
     "output_type": "execute_result"
    }
   ],
   "source": [
    "import numpy as np\n",
    "n11= np.random.randint(1,10,2)\n",
    "n11"
   ]
  },
  {
   "cell_type": "markdown",
   "id": "1b88e7d9",
   "metadata": {},
   "source": [
    "# checking size and shape of random array"
   ]
  },
  {
   "cell_type": "code",
   "execution_count": 17,
   "id": "c7df4cfa",
   "metadata": {},
   "outputs": [
    {
     "data": {
      "text/plain": [
       "15"
      ]
     },
     "execution_count": 17,
     "metadata": {},
     "output_type": "execute_result"
    }
   ],
   "source": [
    "import numpy as np\n",
    "n12 = np.random.randint(100,10000,15)\n",
    "np.size(n12)"
   ]
  },
  {
   "cell_type": "code",
   "execution_count": 18,
   "id": "6ebe8d6f",
   "metadata": {},
   "outputs": [
    {
     "data": {
      "text/plain": [
       "(15,)"
      ]
     },
     "execution_count": 18,
     "metadata": {},
     "output_type": "execute_result"
    }
   ],
   "source": [
    "np.shape(n12)"
   ]
  },
  {
   "cell_type": "code",
   "execution_count": 19,
   "id": "845cfac6",
   "metadata": {},
   "outputs": [
    {
     "data": {
      "text/plain": [
       "45"
      ]
     },
     "execution_count": 19,
     "metadata": {},
     "output_type": "execute_result"
    }
   ],
   "source": [
    "import numpy as np\n",
    "n13 = np.full((5,9),125)\n",
    "np.size(n13)"
   ]
  },
  {
   "cell_type": "code",
   "execution_count": 20,
   "id": "ae902443",
   "metadata": {},
   "outputs": [
    {
     "data": {
      "text/plain": [
       "(5, 9)"
      ]
     },
     "execution_count": 20,
     "metadata": {},
     "output_type": "execute_result"
    }
   ],
   "source": [
    "np.shape(n13)"
   ]
  },
  {
   "cell_type": "markdown",
   "id": "8492a208",
   "metadata": {},
   "source": [
    "# reshaping the array"
   ]
  },
  {
   "cell_type": "code",
   "execution_count": 21,
   "id": "2fe95263",
   "metadata": {},
   "outputs": [
    {
     "data": {
      "text/plain": [
       "(2, 4)"
      ]
     },
     "execution_count": 21,
     "metadata": {},
     "output_type": "execute_result"
    }
   ],
   "source": [
    "import numpy as np\n",
    "n14 = np.array([[1,2,3,4],[4,5,6,7]])\n",
    "n14.shape"
   ]
  },
  {
   "cell_type": "code",
   "execution_count": 22,
   "id": "170007d5",
   "metadata": {},
   "outputs": [
    {
     "data": {
      "text/plain": [
       "array([[1, 2, 3, 4, 4, 5, 6, 7]])"
      ]
     },
     "execution_count": 22,
     "metadata": {},
     "output_type": "execute_result"
    }
   ],
   "source": [
    "n14.shape=(1,8)\n",
    "n14"
   ]
  },
  {
   "cell_type": "code",
   "execution_count": 23,
   "id": "6daa0366",
   "metadata": {},
   "outputs": [
    {
     "data": {
      "text/plain": [
       "array([[1],\n",
       "       [2],\n",
       "       [3],\n",
       "       [4],\n",
       "       [4],\n",
       "       [5],\n",
       "       [6],\n",
       "       [7]])"
      ]
     },
     "execution_count": 23,
     "metadata": {},
     "output_type": "execute_result"
    }
   ],
   "source": [
    "n14.shape = (8,1)\n",
    "n14"
   ]
  },
  {
   "cell_type": "markdown",
   "id": "828f18d6",
   "metadata": {},
   "source": [
    "# Addition of array"
   ]
  },
  {
   "cell_type": "code",
   "execution_count": 24,
   "id": "d38cb619",
   "metadata": {},
   "outputs": [
    {
     "data": {
      "text/plain": [
       "array([30, 50])"
      ]
     },
     "execution_count": 24,
     "metadata": {},
     "output_type": "execute_result"
    }
   ],
   "source": [
    "import numpy as np\n",
    "n15 = np.array([10,20])\n",
    "n16 = np.array([20,30])\n",
    "num = n15+n16\n",
    "num"
   ]
  },
  {
   "cell_type": "code",
   "execution_count": 25,
   "id": "8968d372",
   "metadata": {},
   "outputs": [
    {
     "data": {
      "text/plain": [
       "80"
      ]
     },
     "execution_count": 25,
     "metadata": {},
     "output_type": "execute_result"
    }
   ],
   "source": [
    "num = np.sum([n15,n16])\n",
    "num"
   ]
  },
  {
   "cell_type": "code",
   "execution_count": 26,
   "id": "2ea62b37",
   "metadata": {},
   "outputs": [
    {
     "data": {
      "text/plain": [
       "10723"
      ]
     },
     "execution_count": 26,
     "metadata": {},
     "output_type": "execute_result"
    }
   ],
   "source": [
    "n17 = np.random.randint(1,1000,10)\n",
    "n18 = np.random.randint(1,1000,10)\n",
    "add=np.sum([n17,n18])\n",
    "add"
   ]
  },
  {
   "cell_type": "code",
   "execution_count": 27,
   "id": "13c7ee5a",
   "metadata": {},
   "outputs": [
    {
     "data": {
      "text/plain": [
       "1740.0"
      ]
     },
     "execution_count": 27,
     "metadata": {},
     "output_type": "execute_result"
    }
   ],
   "source": [
    "nn = np.ones((5,6))\n",
    "nn1 = np.full((5,6),57)\n",
    "add = np.sum([nn,nn1])\n",
    "add"
   ]
  },
  {
   "cell_type": "markdown",
   "id": "b5362671",
   "metadata": {},
   "source": [
    "# mahtematical operation on array\n"
   ]
  },
  {
   "cell_type": "code",
   "execution_count": 28,
   "id": "7c5396f1",
   "metadata": {},
   "outputs": [
    {
     "data": {
      "text/plain": [
       "array([200, 300])"
      ]
     },
     "execution_count": 28,
     "metadata": {},
     "output_type": "execute_result"
    }
   ],
   "source": [
    "import numpy as np\n",
    "nn1= np.array([20,10])\n",
    "nn2= np.array([10,30])\n",
    "mul = np.multiply(nn1,nn2)\n",
    "mul"
   ]
  },
  {
   "cell_type": "code",
   "execution_count": 29,
   "id": "7e565b27",
   "metadata": {},
   "outputs": [
    {
     "data": {
      "text/plain": [
       "array([[  1, 144, 196],\n",
       "       [210, 168,  13]])"
      ]
     },
     "execution_count": 29,
     "metadata": {},
     "output_type": "execute_result"
    }
   ],
   "source": [
    "nn3 = np.array([[1,12,14],[14,12,1]])\n",
    "nn4 = np.array([[1,12,14],[15,14,13]])\n",
    "into = np.multiply(nn3,nn4)\n",
    "into"
   ]
  },
  {
   "cell_type": "markdown",
   "id": "66ef6659",
   "metadata": {},
   "source": [
    "# Addition of array in colomn and row vise"
   ]
  },
  {
   "cell_type": "markdown",
   "id": "ebd85dbc",
   "metadata": {},
   "source": [
    "## addition of column"
   ]
  },
  {
   "cell_type": "code",
   "execution_count": 30,
   "id": "f1c45174",
   "metadata": {},
   "outputs": [
    {
     "data": {
      "text/plain": [
       "array([20, 40])"
      ]
     },
     "execution_count": 30,
     "metadata": {},
     "output_type": "execute_result"
    }
   ],
   "source": [
    "import numpy as np\n",
    "n1 = np.array([10,20])\n",
    "n2 = np.array([10,20])\n",
    "np.sum([n1,n2], axis=0)"
   ]
  },
  {
   "cell_type": "markdown",
   "id": "fc7d9bfd",
   "metadata": {},
   "source": [
    "## addition of rows"
   ]
  },
  {
   "cell_type": "code",
   "execution_count": 31,
   "id": "22edf37c",
   "metadata": {},
   "outputs": [
    {
     "data": {
      "text/plain": [
       "array([30, 30])"
      ]
     },
     "execution_count": 31,
     "metadata": {},
     "output_type": "execute_result"
    }
   ],
   "source": [
    "import numpy as np\n",
    "n1 = np.array([10,20])\n",
    "n2 = np.array([10,20])\n",
    "np.sum([n1,n2], axis=1)"
   ]
  },
  {
   "cell_type": "code",
   "execution_count": 32,
   "id": "5c1d1c62",
   "metadata": {},
   "outputs": [
    {
     "data": {
      "text/plain": [
       "array([9094, 9144, 2758, 2448, 6408, 5822, 8583, 4568, 1816, 8751, 4724,\n",
       "       8918, 2978, 9582, 6569, 9313, 2401, 8829, 6425, 2939, 8322, 3887,\n",
       "       8161, 2710, 4269])"
      ]
     },
     "execution_count": 32,
     "metadata": {},
     "output_type": "execute_result"
    }
   ],
   "source": [
    "##basic addition on array\n",
    "import numpy as np\n",
    "n3 = np.random.randint(1,10000,25)\n",
    "n3=n3+10\n",
    "n3"
   ]
  },
  {
   "cell_type": "code",
   "execution_count": 33,
   "id": "b1e6871d",
   "metadata": {},
   "outputs": [
    {
     "data": {
      "text/plain": [
       "array([[ 115,  125,  322,  124,  126],\n",
       "       [ 115,  112,  114,  116,  117],\n",
       "       [ 115,  222, 1557,  258, 1669]])"
      ]
     },
     "execution_count": 33,
     "metadata": {},
     "output_type": "execute_result"
    }
   ],
   "source": [
    "import numpy as np\n",
    "n4 = np.array([[15,25,222,24,26],[15,12,14,16,17],[15,122,1457,158,1569]])\n",
    "n4 = n4+100\n",
    "n4"
   ]
  },
  {
   "cell_type": "code",
   "execution_count": 34,
   "id": "8041b39d",
   "metadata": {},
   "outputs": [
    {
     "data": {
      "text/plain": [
       "array([[ 2.8,  5. ,  5.2,  7.2],\n",
       "       [ 2.8,  1.2,  1. , 11.6]])"
      ]
     },
     "execution_count": 34,
     "metadata": {},
     "output_type": "execute_result"
    }
   ],
   "source": [
    "import numpy as np\n",
    "n5 = np.array([[14,25,26,36],[14,6,5,58]])\n",
    "n5 = n5/5\n",
    "n5"
   ]
  },
  {
   "cell_type": "code",
   "execution_count": 35,
   "id": "6d7f9aba",
   "metadata": {
    "tags": []
   },
   "outputs": [
    {
     "data": {
      "text/plain": [
       "array([[  0,  -1,  -2,  -3,  -4],\n",
       "       [ -5,  -6,  -7,  -8,  -9],\n",
       "       [-10, -11, -12, -13, -14]])"
      ]
     },
     "execution_count": 35,
     "metadata": {},
     "output_type": "execute_result"
    }
   ],
   "source": [
    "import numpy as np\n",
    "n7 = np.array([[15,14,13,12,11],[10,9,8,7,6],[5,4,3,2,1]])\n",
    "n7 = n7-15\n",
    "n7"
   ]
  },
  {
   "cell_type": "markdown",
   "id": "58045db4-b65f-4ae6-85ab-da9c3f9bcb21",
   "metadata": {},
   "source": [
    "# joining numpy array "
   ]
  },
  {
   "cell_type": "markdown",
   "id": "0853fbe8-f6cf-461f-9cc0-3c3970d1f181",
   "metadata": {},
   "source": [
    "## vstack(): it stack data vertically, it stacks one array vertically on another way"
   ]
  },
  {
   "cell_type": "code",
   "execution_count": 36,
   "id": "10256cad-aa4c-4762-8021-65ebd2870811",
   "metadata": {
    "tags": []
   },
   "outputs": [
    {
     "data": {
      "text/plain": [
       "array([[10, 20, 30],\n",
       "       [40, 50, 60]])"
      ]
     },
     "execution_count": 36,
     "metadata": {},
     "output_type": "execute_result"
    }
   ],
   "source": [
    "import numpy as np\n",
    "n1 = np.array([10,20,30])\n",
    "n2 = np.array([40,50,60])\n",
    "n3 = np.vstack((n1,n2))\n",
    "n3"
   ]
  },
  {
   "cell_type": "code",
   "execution_count": 37,
   "id": "061b115a-27d3-46eb-af6d-ceaefb8f4215",
   "metadata": {
    "tags": []
   },
   "outputs": [
    {
     "data": {
      "text/plain": [
       "array([[10, 20, 30, 40, 50, 60],\n",
       "       [70, 80, 90, 25, 35, 45]])"
      ]
     },
     "execution_count": 37,
     "metadata": {},
     "output_type": "execute_result"
    }
   ],
   "source": [
    "import numpy as np\n",
    "n1 = np.array([[10,20,30],\n",
    "              [70,80,90]])\n",
    "n2 = np.array([[40,50,60],[25,35,45]])\n",
    "n3 = np.hstack((n1,n2))\n",
    "n3"
   ]
  },
  {
   "cell_type": "code",
   "execution_count": 38,
   "id": "5c6ddc63-7728-4c48-b34e-4c4016d04239",
   "metadata": {
    "tags": []
   },
   "outputs": [
    {
     "data": {
      "text/plain": [
       "array([[10, 40],\n",
       "       [20, 50],\n",
       "       [30, 60],\n",
       "       [70, 25],\n",
       "       [80, 35],\n",
       "       [90, 45]])"
      ]
     },
     "execution_count": 38,
     "metadata": {},
     "output_type": "execute_result"
    }
   ],
   "source": [
    "import numpy as np\n",
    "n1 = np.array([10,20,30,70,80,90])\n",
    "n2 = np.array([40,50,60,25,35,45])\n",
    "n3 =np.column_stack((n1,n2))\n",
    "n3"
   ]
  },
  {
   "cell_type": "markdown",
   "id": "3ba72425-a10e-4722-b313-a21f0fc22368",
   "metadata": {
    "tags": []
   },
   "source": [
    "## numpy intersaction and difference"
   ]
  },
  {
   "cell_type": "markdown",
   "id": "df16537f-c657-4d43-a894-34c4301a9ccd",
   "metadata": {
    "tags": []
   },
   "source": [
    "## intersect1d():- it's a method used to find similar elements in array"
   ]
  },
  {
   "cell_type": "code",
   "execution_count": 39,
   "id": "23a73738-85fb-471f-8226-69922167c0f3",
   "metadata": {
    "tags": []
   },
   "outputs": [
    {
     "data": {
      "text/plain": [
       "array([10, 20, 30, 40, 60])"
      ]
     },
     "execution_count": 39,
     "metadata": {},
     "output_type": "execute_result"
    }
   ],
   "source": [
    "import numpy as np\n",
    "n1 = np.array([10,20,30,40,50,60,70,80,90])\n",
    "n2 = np.array([10,20,40,30,60,45,55,65,75,85,95])\n",
    "n3 = np.intersect1d(n1,n2)\n",
    "n3"
   ]
  },
  {
   "cell_type": "code",
   "execution_count": 40,
   "id": "99bb551b-5125-4a5b-8c69-22fd23a708c0",
   "metadata": {
    "tags": []
   },
   "outputs": [
    {
     "data": {
      "text/plain": [
       "array([10, 20, 25, 30, 45])"
      ]
     },
     "execution_count": 40,
     "metadata": {},
     "output_type": "execute_result"
    }
   ],
   "source": [
    "import numpy as np\n",
    "n1 = np.array([[10,20,30],[25,50,54],[45,48,49]])\n",
    "n2 = np.array([[15,25,35],[10,20,30],[45,45,45]])\n",
    "n3 = np.intersect1d(n1,n2)\n",
    "n3"
   ]
  },
  {
   "cell_type": "markdown",
   "id": "074d9bfd-bd84-40bc-b95a-d9b6126592ec",
   "metadata": {},
   "source": [
    "## setdiff1d():- its to seperate unique value in first array n1, in resultant array remove common element in both array and unique in n2 array"
   ]
  },
  {
   "cell_type": "code",
   "execution_count": 41,
   "id": "77b7b4ee-4408-416e-989f-9837dd6ef88b",
   "metadata": {
    "tags": []
   },
   "outputs": [
    {
     "data": {
      "text/plain": [
       "array([10, 20])"
      ]
     },
     "execution_count": 41,
     "metadata": {},
     "output_type": "execute_result"
    }
   ],
   "source": [
    "import numpy as np\n",
    "n1 = np.array([[10,20,30,40,50],[20,40,60,80,100]])\n",
    "n2 = np.array([[30,40,50,60,70],[80,90,100,110,120]])\n",
    "n3 = np.setdiff1d(n1,n2)\n",
    "n3"
   ]
  },
  {
   "cell_type": "code",
   "execution_count": 42,
   "id": "fe152577-b7eb-469b-8f0b-d8132a9e28a3",
   "metadata": {
    "tags": []
   },
   "outputs": [
    {
     "data": {
      "text/plain": [
       "array([ 70,  90, 110, 120])"
      ]
     },
     "execution_count": 42,
     "metadata": {},
     "output_type": "execute_result"
    }
   ],
   "source": [
    "import numpy as np\n",
    "n1 = np.array([[10,20,30,40,50],[20,40,60,80,100]])\n",
    "n2 = np.array([[30,40,50,60,70],[80,90,100,110,120]])\n",
    "n3 = np.setdiff1d(n2,n1)\n",
    "n3"
   ]
  },
  {
   "cell_type": "markdown",
   "id": "f94329ac-3930-4977-88fa-2cd17e73c7a1",
   "metadata": {},
   "source": [
    "# Numpy math function"
   ]
  },
  {
   "cell_type": "markdown",
   "id": "9edd000b-60ec-4b51-8c33-9a9c326f03bd",
   "metadata": {},
   "source": [
    "# mean function"
   ]
  },
  {
   "cell_type": "code",
   "execution_count": 43,
   "id": "176a9fb7-4f81-40a5-b7b2-7b2a81152429",
   "metadata": {
    "tags": []
   },
   "outputs": [
    {
     "data": {
      "text/plain": [
       "53.714285714285715"
      ]
     },
     "execution_count": 43,
     "metadata": {},
     "output_type": "execute_result"
    }
   ],
   "source": [
    "import numpy as np\n",
    "n1 = np.array([10,20,30,50,60,80,90,73,25,55,65,85,45,75,85,95,65,35,25,15,45])\n",
    "np.mean(n1)"
   ]
  },
  {
   "cell_type": "code",
   "execution_count": 44,
   "id": "c02981ed-61f5-4e6a-9c4f-473a0058e8dd",
   "metadata": {
    "tags": []
   },
   "outputs": [
    {
     "data": {
      "text/plain": [
       "140.28571428571428"
      ]
     },
     "execution_count": 44,
     "metadata": {},
     "output_type": "execute_result"
    }
   ],
   "source": [
    "import numpy as np\n",
    "n1 = np.array([[10,20,30,100],[50,60,80,200],[90,73,25,300],[55,65,85,400],[45,75,85,500],[95,65,35,600],[25,15,45,700]])\n",
    "np.mean(n1)"
   ]
  },
  {
   "cell_type": "markdown",
   "id": "57b361a1-6323-4cf5-9102-a5d0eff7d35c",
   "metadata": {},
   "source": [
    "## median function"
   ]
  },
  {
   "cell_type": "code",
   "execution_count": 45,
   "id": "da16d3a9-2edd-4678-8f0d-62756dee1528",
   "metadata": {
    "tags": []
   },
   "outputs": [
    {
     "data": {
      "text/plain": [
       "56.0"
      ]
     },
     "execution_count": 45,
     "metadata": {},
     "output_type": "execute_result"
    }
   ],
   "source": [
    "import numpy as np\n",
    "n1 = np.array([20,25,65,85,95,75,45,11,22,33,55,66,88,99,77,44,55,88,56,55,85,95,65,26,5,5,56,56,456,56,56,5,65,6])\n",
    "np.median(n1)"
   ]
  },
  {
   "cell_type": "markdown",
   "id": "a5dada27-3bec-4589-a2af-fb684fab814e",
   "metadata": {},
   "source": [
    "## standard deviation"
   ]
  },
  {
   "cell_type": "code",
   "execution_count": 46,
   "id": "0e503d20-7021-439a-bd02-7f6907568987",
   "metadata": {
    "tags": []
   },
   "outputs": [
    {
     "data": {
      "text/plain": [
       "26.24294269937141"
      ]
     },
     "execution_count": 46,
     "metadata": {},
     "output_type": "execute_result"
    }
   ],
   "source": [
    "import numpy as np\n",
    "n1 = np.array([12,23,34,45,56,67,78,89,91,12,23,34,45,56,67,78,89])\n",
    "np.std(n1)"
   ]
  },
  {
   "cell_type": "code",
   "execution_count": 47,
   "id": "0028f045-e242-4dd6-a774-b98b546ca677",
   "metadata": {
    "tags": []
   },
   "outputs": [
    {
     "data": {
      "text/plain": [
       "26.956755492207638"
      ]
     },
     "execution_count": 47,
     "metadata": {},
     "output_type": "execute_result"
    }
   ],
   "source": [
    "import numpy as np\n",
    "n1 = np.array([[12,23,34],[45,56,67],[78,89,91]])\n",
    "np.std(n1)"
   ]
  },
  {
   "cell_type": "code",
   "execution_count": 48,
   "id": "45ac2c3b-ab09-46da-8a05-17cfcccf61c5",
   "metadata": {
    "tags": []
   },
   "outputs": [],
   "source": [
    "## numpy file save and load"
   ]
  },
  {
   "cell_type": "code",
   "execution_count": 49,
   "id": "c61e1276-c4f5-49d6-a75c-e6b71e28530b",
   "metadata": {
    "tags": []
   },
   "outputs": [],
   "source": [
    "import numpy as np\n",
    "n1 = np.array([10,20,30,40,50,60])\n",
    "np.save('My_first_numpy',n1)"
   ]
  },
  {
   "cell_type": "code",
   "execution_count": 50,
   "id": "bfb909ce-0003-4627-8531-51878099d280",
   "metadata": {
    "tags": []
   },
   "outputs": [
    {
     "data": {
      "text/plain": [
       "array([10, 20, 30, 40, 50, 60])"
      ]
     },
     "execution_count": 50,
     "metadata": {},
     "output_type": "execute_result"
    }
   ],
   "source": [
    "n2 = np.load('My_first_numpy.npy')\n",
    "n2"
   ]
  },
  {
   "cell_type": "markdown",
   "id": "bb03719a-4a0e-400c-bbf1-c8325731561c",
   "metadata": {},
   "source": [
    "## python program to demonstrate the use of numpy arrays"
   ]
  },
  {
   "cell_type": "code",
   "execution_count": 51,
   "id": "b11b6c80-4cd8-4649-965b-ca1696933dab",
   "metadata": {
    "tags": []
   },
   "outputs": [
    {
     "name": "stdout",
     "output_type": "stream",
     "text": [
      "Result array is:- [12 14 16 18 20 22 24 26 28 30]\n"
     ]
    }
   ],
   "source": [
    "import numpy as np\n",
    "\n",
    "list1 = [1,2,3,4,5,6,7,8,9,10]\n",
    "list2 = [11,12,13,14,15,16,17,18,19,20]\n",
    "\n",
    "n1 = np.array(list1)\n",
    "n2 = np.array(list2)\n",
    "\n",
    "print('Result array is:-', n1+n2)"
   ]
  },
  {
   "cell_type": "code",
   "execution_count": 52,
   "id": "f62d80e1-e9d1-45df-b67d-0b223be91988",
   "metadata": {
    "tags": []
   },
   "outputs": [
    {
     "name": "stdout",
     "output_type": "stream",
     "text": [
      "rusult of array is:- [22 24 26 28 30 32 34 36 38 40]\n"
     ]
    }
   ],
   "source": [
    "import numpy as np\n",
    "\n",
    "tup1 = (1,2,3,4,5,6,7,8,9,10)\n",
    "tup2 = (21,22,23,24,25,26,27,28,29,30)\n",
    "\n",
    "n1 = np.array(tup1)\n",
    "n2 = np.array(tup2)\n",
    "\n",
    "print('rusult of array is:-',n1+n2)"
   ]
  },
  {
   "cell_type": "code",
   "execution_count": null,
   "id": "7ea6c88e-2bac-4fd7-8ae6-a2c2c5efc7b6",
   "metadata": {},
   "outputs": [],
   "source": []
  },
  {
   "cell_type": "code",
   "execution_count": 53,
   "id": "51308ecf-048a-42d6-8d7d-aca8edf8b42e",
   "metadata": {
    "tags": []
   },
   "outputs": [
    {
     "name": "stdout",
     "output_type": "stream",
     "text": [
      "a sequence array with a negetive step:-  [20 17 14 11  8  5  2]\n",
      "element at these indices are:-  [11  5 14]\n"
     ]
    }
   ],
   "source": [
    "import numpy as np\n",
    "#creating a sequence of integer from 20 to 1 wiht a step of -4\n",
    "n1= np.arange(20,1,-3)\n",
    "print('a sequence array with a negetive step:- ',n1)\n",
    "\n",
    "n2 = n1[np.array([3,5,2])]\n",
    "print('element at these indices are:- ',n2)"
   ]
  },
  {
   "cell_type": "markdown",
   "id": "9a710292-a144-49fe-948f-ce9fbdf8136b",
   "metadata": {},
   "source": [
    "# indexing using index array"
   ]
  },
  {
   "cell_type": "code",
   "execution_count": 54,
   "id": "eedf33c6-80c6-48f9-84fb-0b802a59229d",
   "metadata": {
    "tags": []
   },
   "outputs": [
    {
     "name": "stdout",
     "output_type": "stream",
     "text": [
      "element are: -  [12 13 18]\n"
     ]
    }
   ],
   "source": [
    "import numpy as np\n",
    "# numpy array with element fron 11 to 19\n",
    "n1 = np.array([11,12,13,4,15,16,17,18,19,20])\n",
    "\n",
    "#indexing values can be negative\n",
    "n2 = n1[np.array([1,2,-3])]\n",
    "print('element are: - ',n2)"
   ]
  },
  {
   "cell_type": "markdown",
   "id": "94cea378-2333-4460-9f36-b5d056bc706e",
   "metadata": {},
   "source": [
    "# python program for basic slicing"
   ]
  },
  {
   "cell_type": "code",
   "execution_count": 55,
   "id": "7995a397-e1e4-47ba-99c7-7872373ac80e",
   "metadata": {
    "tags": []
   },
   "outputs": [
    {
     "name": "stdout",
     "output_type": "stream",
     "text": [
      "Array is:- [ 0  1  2  3  4  5  6  7  8  9 10 11 12 13 14 15 16 17 18 19]\n",
      " n1[-8:17:1] :) [12 13 14 15 16]\n",
      "n1[10:]= [10 11 12 13 14 15 16 17 18 19]\n"
     ]
    }
   ],
   "source": [
    "import numpy as np\n",
    "\n",
    "n1 = np.arange(20)\n",
    "print('Array is:-',n1)\n",
    "\n",
    "print(' n1[-8:17:1] :)',n1[-8:17:1])\n",
    "\n",
    "print('n1[10:]=',n1[10:])"
   ]
  },
  {
   "cell_type": "code",
   "execution_count": null,
   "id": "8fd1c7ee-455f-46d5-b3f7-def2b67adfd2",
   "metadata": {},
   "outputs": [],
   "source": []
  },
  {
   "cell_type": "code",
   "execution_count": null,
   "id": "5147d960-111d-4e66-a669-b0d45c205ad2",
   "metadata": {},
   "outputs": [],
   "source": []
  },
  {
   "cell_type": "code",
   "execution_count": null,
   "id": "57a84087-a346-446e-b432-ceac2b3d5238",
   "metadata": {},
   "outputs": [],
   "source": []
  },
  {
   "cell_type": "code",
   "execution_count": null,
   "id": "517bcf33-49ba-42e3-914a-5ec8373d1acb",
   "metadata": {},
   "outputs": [],
   "source": []
  },
  {
   "cell_type": "code",
   "execution_count": null,
   "id": "a36919fb-3d0f-4fad-a182-9b561cbf36f2",
   "metadata": {},
   "outputs": [],
   "source": []
  },
  {
   "cell_type": "code",
   "execution_count": null,
   "id": "1cd7c9d1-741c-44ce-8b74-57eff6896374",
   "metadata": {},
   "outputs": [],
   "source": []
  }
 ],
 "metadata": {
  "kernelspec": {
   "display_name": "Python 3 (ipykernel)",
   "language": "python",
   "name": "python3"
  },
  "language_info": {
   "codemirror_mode": {
    "name": "ipython",
    "version": 3
   },
   "file_extension": ".py",
   "mimetype": "text/x-python",
   "name": "python",
   "nbconvert_exporter": "python",
   "pygments_lexer": "ipython3",
   "version": "3.11.5"
  }
 },
 "nbformat": 4,
 "nbformat_minor": 5
}
