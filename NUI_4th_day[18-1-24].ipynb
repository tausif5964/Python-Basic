{
 "cells": [
  {
   "cell_type": "markdown",
   "id": "7484c0c4",
   "metadata": {},
   "source": [
    "# Lambda function"
   ]
  },
  {
   "cell_type": "code",
   "execution_count": 1,
   "id": "18d83023",
   "metadata": {},
   "outputs": [],
   "source": [
    " g = lambda x:x*x*x"
   ]
  },
  {
   "cell_type": "code",
   "execution_count": 2,
   "id": "ace9cf2d",
   "metadata": {},
   "outputs": [
    {
     "data": {
      "text/plain": [
       "27"
      ]
     },
     "execution_count": 2,
     "metadata": {},
     "output_type": "execute_result"
    }
   ],
   "source": [
    "g(3)"
   ]
  },
  {
   "cell_type": "code",
   "execution_count": 3,
   "id": "68184c43",
   "metadata": {},
   "outputs": [],
   "source": [
    "g = lambda x:x+x+x"
   ]
  },
  {
   "cell_type": "code",
   "execution_count": 4,
   "id": "e90cd14b",
   "metadata": {},
   "outputs": [
    {
     "data": {
      "text/plain": [
       "9"
      ]
     },
     "execution_count": 4,
     "metadata": {},
     "output_type": "execute_result"
    }
   ],
   "source": [
    "g(3)"
   ]
  },
  {
   "cell_type": "markdown",
   "id": "4aba46db",
   "metadata": {},
   "source": [
    "Lambda with Filter"
   ]
  },
  {
   "cell_type": "code",
   "execution_count": 5,
   "id": "b41299bf",
   "metadata": {},
   "outputs": [
    {
     "name": "stdout",
     "output_type": "stream",
     "text": [
      "even list:  [33, 17, 15]  odd list:  [54, 22, 56, 20, 10, 112]\n"
     ]
    }
   ],
   "source": [
    "l1 = [54,22,56,33,17,20,10,15,112]\n",
    "\n",
    "filter_even=list(filter(lambda x: (x%2!=0),l1))\n",
    "filter_odd=list(filter(lambda x: (x%2==0),l1))\n",
    "\n",
    "print('even list: ',filter_even,' odd list: ',filter_odd)"
   ]
  },
  {
   "cell_type": "code",
   "execution_count": 6,
   "id": "a912996a",
   "metadata": {},
   "outputs": [
    {
     "data": {
      "text/plain": [
       "[54, 56, 33, 112]"
      ]
     },
     "execution_count": 6,
     "metadata": {},
     "output_type": "execute_result"
    }
   ],
   "source": [
    "list(filter( lambda x: x>30,l1))"
   ]
  },
  {
   "cell_type": "markdown",
   "id": "51811998",
   "metadata": {},
   "source": [
    "Lambda with map"
   ]
  },
  {
   "cell_type": "code",
   "execution_count": 7,
   "id": "fd699817",
   "metadata": {},
   "outputs": [
    {
     "data": {
      "text/plain": [
       "[3, 4, 5, 6, 7, 8, 9, 10, 11]"
      ]
     },
     "execution_count": 7,
     "metadata": {},
     "output_type": "execute_result"
    }
   ],
   "source": [
    "ll = [1,2,3,4,5,6,7,8,9]\n",
    "\n",
    "List = list(map(lambda x: x+2 ,ll))\n",
    "List"
   ]
  },
  {
   "cell_type": "code",
   "execution_count": 8,
   "id": "3a18da4e",
   "metadata": {},
   "outputs": [
    {
     "data": {
      "text/plain": [
       "[1, 4, 9, 16, 25, 36, 49, 64, 81]"
      ]
     },
     "execution_count": 8,
     "metadata": {},
     "output_type": "execute_result"
    }
   ],
   "source": [
    "list(map(lambda x: x*x,ll))"
   ]
  },
  {
   "cell_type": "markdown",
   "id": "7498a8ff",
   "metadata": {},
   "source": [
    "if we want to reduce a sequence a sequence and want result we use functools and reduce "
   ]
  },
  {
   "cell_type": "markdown",
   "id": "282ae9f1",
   "metadata": {},
   "source": [
    "we will add elements in list l1 and sum value will be stored in sum"
   ]
  },
  {
   "cell_type": "code",
   "execution_count": 9,
   "id": "f35dbea7",
   "metadata": {},
   "outputs": [
    {
     "data": {
      "text/plain": [
       "210"
      ]
     },
     "execution_count": 9,
     "metadata": {},
     "output_type": "execute_result"
    }
   ],
   "source": [
    "l1 = [1,2,3,4,5,6,7,8,9,10,11,12,13,14,15,16,17,18,19,20]\n",
    "\n",
    "from functools import reduce\n",
    "sum = reduce(lambda x,y : x+y,l1)\n",
    "sum"
   ]
  },
  {
   "cell_type": "markdown",
   "id": "177aead8",
   "metadata": {},
   "source": [
    "# Object oriented Programming concept\n",
    "## let us take example to understand"
   ]
  },
  {
   "cell_type": "code",
   "execution_count": 10,
   "id": "5fc52f57",
   "metadata": {},
   "outputs": [],
   "source": [
    "class phone:\n",
    "    def Make_call(self):\n",
    "        print('make a call')\n",
    "    def play_game(self):\n",
    "        print('i am not intresed to play game with you')"
   ]
  },
  {
   "cell_type": "code",
   "execution_count": 11,
   "id": "e67de87e",
   "metadata": {},
   "outputs": [],
   "source": [
    "#creating an object of class phone\n",
    "p1=phone()"
   ]
  },
  {
   "cell_type": "code",
   "execution_count": 12,
   "id": "4db1a1c4",
   "metadata": {},
   "outputs": [
    {
     "name": "stdout",
     "output_type": "stream",
     "text": [
      "make a call\n"
     ]
    }
   ],
   "source": [
    "p1.Make_call()"
   ]
  },
  {
   "cell_type": "code",
   "execution_count": 13,
   "id": "7a353f81",
   "metadata": {},
   "outputs": [
    {
     "name": "stdout",
     "output_type": "stream",
     "text": [
      "i am not intresed to play game with you\n"
     ]
    }
   ],
   "source": [
    "p1.play_game()"
   ]
  },
  {
   "cell_type": "code",
   "execution_count": 14,
   "id": "37e7c3a1",
   "metadata": {},
   "outputs": [],
   "source": [
    "class Anjuman:\n",
    "    def Attendence(self,attend):\n",
    "        self.attend = input('Are you attending the class (y/n)?')\n",
    "        if 'y' in attend:\n",
    "            print('Good')\n",
    "        else:\n",
    "            print('As you wish')\n",
    "            \n",
    "    def Sports(self,sport_name):\n",
    "        self.sport_name= input('Enter your favorite sports name (Cricket,Football,etc)?')\n",
    "        \n",
    "        if 'Cricket' in sport_name:\n",
    "            print('please go to kasturchand park for the match')\n",
    "            \n",
    "        elif 'football'in sport_name:\n",
    "            print('sorry the match over')\n",
    "        \n",
    "        else:\n",
    "            print('seats for other sport are full')\n",
    "    "
   ]
  },
  {
   "cell_type": "code",
   "execution_count": 15,
   "id": "9dadaece",
   "metadata": {},
   "outputs": [],
   "source": [
    "A = Anjuman()"
   ]
  },
  {
   "cell_type": "code",
   "execution_count": 16,
   "id": "4a9a780a",
   "metadata": {},
   "outputs": [
    {
     "name": "stdout",
     "output_type": "stream",
     "text": [
      "Are you attending the class (y/n)?\n",
      "As you wish\n"
     ]
    }
   ],
   "source": [
    "A.Attendence('attend')"
   ]
  },
  {
   "cell_type": "code",
   "execution_count": 17,
   "id": "75e199c7",
   "metadata": {},
   "outputs": [
    {
     "name": "stdout",
     "output_type": "stream",
     "text": [
      "Enter your favorite sports name (Cricket,Football,etc)?\n",
      "seats for other sport are full\n"
     ]
    }
   ],
   "source": [
    "A.Sports('sport_name')"
   ]
  },
  {
   "cell_type": "markdown",
   "id": "7849b44e",
   "metadata": {},
   "source": [
    "Creating a class with constructure"
   ]
  },
  {
   "cell_type": "code",
   "execution_count": 18,
   "id": "dbe59885",
   "metadata": {},
   "outputs": [],
   "source": [
    "class Employee:\n",
    "    def personal(self):\n",
    "        self.name=input('Enter your name please: ')\n",
    "        self.age= input('enter your age please: ')\n",
    "        self.salary=int(input('Enter you salary ampount: '))\n",
    "        self.gender= input('enter your gender(M/F): ')\n",
    "        \n",
    "    def Employee_detail(self):\n",
    "        print('name of the employee is',self.name)\n",
    "        print('Age of the employee is',self.age)\n",
    "        print('Salary of the employee is',self.salary)\n",
    "        print('Gender of the employee is',self.gender)\n",
    "        \n",
    "        "
   ]
  },
  {
   "cell_type": "code",
   "execution_count": 19,
   "id": "f7e2fa3b",
   "metadata": {},
   "outputs": [],
   "source": [
    "E1= Employee()"
   ]
  },
  {
   "cell_type": "code",
   "execution_count": 20,
   "id": "ff6e9513",
   "metadata": {},
   "outputs": [
    {
     "name": "stdout",
     "output_type": "stream",
     "text": [
      "Enter your name please: \n",
      "enter your age please: \n",
      "Enter you salary ampount: \n"
     ]
    },
    {
     "ename": "ValueError",
     "evalue": "invalid literal for int() with base 10: ''",
     "output_type": "error",
     "traceback": [
      "\u001b[1;31m---------------------------------------------------------------------------\u001b[0m",
      "\u001b[1;31mValueError\u001b[0m                                Traceback (most recent call last)",
      "Cell \u001b[1;32mIn[20], line 1\u001b[0m\n\u001b[1;32m----> 1\u001b[0m E1\u001b[38;5;241m.\u001b[39mpersonal()\n",
      "Cell \u001b[1;32mIn[18], line 5\u001b[0m, in \u001b[0;36mEmployee.personal\u001b[1;34m(self)\u001b[0m\n\u001b[0;32m      3\u001b[0m \u001b[38;5;28mself\u001b[39m\u001b[38;5;241m.\u001b[39mname\u001b[38;5;241m=\u001b[39m\u001b[38;5;28minput\u001b[39m(\u001b[38;5;124m'\u001b[39m\u001b[38;5;124mEnter your name please: \u001b[39m\u001b[38;5;124m'\u001b[39m)\n\u001b[0;32m      4\u001b[0m \u001b[38;5;28mself\u001b[39m\u001b[38;5;241m.\u001b[39mage\u001b[38;5;241m=\u001b[39m \u001b[38;5;28minput\u001b[39m(\u001b[38;5;124m'\u001b[39m\u001b[38;5;124menter your age please: \u001b[39m\u001b[38;5;124m'\u001b[39m)\n\u001b[1;32m----> 5\u001b[0m \u001b[38;5;28mself\u001b[39m\u001b[38;5;241m.\u001b[39msalary\u001b[38;5;241m=\u001b[39m\u001b[38;5;28mint\u001b[39m(\u001b[38;5;28minput\u001b[39m(\u001b[38;5;124m'\u001b[39m\u001b[38;5;124mEnter you salary ampount: \u001b[39m\u001b[38;5;124m'\u001b[39m))\n\u001b[0;32m      6\u001b[0m \u001b[38;5;28mself\u001b[39m\u001b[38;5;241m.\u001b[39mgender\u001b[38;5;241m=\u001b[39m \u001b[38;5;28minput\u001b[39m(\u001b[38;5;124m'\u001b[39m\u001b[38;5;124menter your gender(M/F): \u001b[39m\u001b[38;5;124m'\u001b[39m)\n",
      "\u001b[1;31mValueError\u001b[0m: invalid literal for int() with base 10: ''"
     ]
    }
   ],
   "source": [
    "E1.personal()"
   ]
  },
  {
   "cell_type": "code",
   "execution_count": null,
   "id": "4a81af41",
   "metadata": {},
   "outputs": [],
   "source": [
    "E1.Employee_detail()"
   ]
  },
  {
   "cell_type": "code",
   "execution_count": 21,
   "id": "2245dbf2",
   "metadata": {},
   "outputs": [],
   "source": [
    "class Employee:\n",
    "    def __init__(self,name,age,salary,gender):\n",
    "        self.name=name\n",
    "        self.age= age\n",
    "        self.salary=salary\n",
    "        self.gender=gender\n",
    "        \n",
    "    def Employee_detail(self):\n",
    "        print('name of the employee is',self.name)\n",
    "        print('Age of the employee is',self.age)\n",
    "        print('Salary of the employee is',self.salary)\n",
    "        print('Gender of the employee is',self.gender)"
   ]
  },
  {
   "cell_type": "code",
   "execution_count": 22,
   "id": "9fa4b1c1",
   "metadata": {},
   "outputs": [],
   "source": [
    "e1=Employee('tausif kurehi',20,20000,'male')"
   ]
  },
  {
   "cell_type": "code",
   "execution_count": 23,
   "id": "087e4ab0",
   "metadata": {},
   "outputs": [
    {
     "name": "stdout",
     "output_type": "stream",
     "text": [
      "name of the employee is tausif kurehi\n",
      "Age of the employee is 20\n",
      "Salary of the employee is 20000\n",
      "Gender of the employee is male\n"
     ]
    }
   ],
   "source": [
    "e1.Employee_detail()"
   ]
  },
  {
   "cell_type": "markdown",
   "id": "4b8cac91",
   "metadata": {},
   "source": [
    "# Inheritence"
   ]
  },
  {
   "cell_type": "code",
   "execution_count": 24,
   "id": "d4a6c130",
   "metadata": {},
   "outputs": [],
   "source": [
    "#parent class"
   ]
  },
  {
   "cell_type": "code",
   "execution_count": 25,
   "id": "8c438d9c",
   "metadata": {},
   "outputs": [],
   "source": [
    "class Engineering:\n",
    "    def __init__(self,milage,cost):\n",
    "        self.milage=milage\n",
    "        self.cost=cost\n",
    "        \n",
    "    def show_details(self):\n",
    "        print('I am a vehicle')\n",
    "        print('milage of the vehicle: ',self.milage)\n",
    "        print('cost of the vehicle: ',self.cost)"
   ]
  },
  {
   "cell_type": "code",
   "execution_count": 26,
   "id": "d10cff33",
   "metadata": {},
   "outputs": [],
   "source": [
    "V1 = Engineering(35,20000)"
   ]
  },
  {
   "cell_type": "code",
   "execution_count": 27,
   "id": "9dc7e250",
   "metadata": {},
   "outputs": [
    {
     "name": "stdout",
     "output_type": "stream",
     "text": [
      "I am a vehicle\n",
      "milage of the vehicle:  35\n",
      "cost of the vehicle:  20000\n"
     ]
    }
   ],
   "source": [
    "V1.show_details()"
   ]
  },
  {
   "cell_type": "code",
   "execution_count": 28,
   "id": "09fa9cb7",
   "metadata": {},
   "outputs": [],
   "source": [
    "#child class"
   ]
  },
  {
   "cell_type": "code",
   "execution_count": 29,
   "id": "fab2e104",
   "metadata": {},
   "outputs": [],
   "source": [
    "class car(Engineering):\n",
    "    def __init__(self,milage,cost,tyres,hp):\n",
    "        super().__init__(milage,cost)\n",
    "        self.tyres=tyres\n",
    "        self.hp=hp\n",
    "        \n",
    "    def show_car_details(self):\n",
    "        print('I am a car')\n",
    "        print('my milage is: ',self.milage)\n",
    "        print('costof car: ',self.cost)\n",
    "        print('Number of tyres: ',self.tyres)\n",
    "        print('value of horse power: ', self.hp)"
   ]
  },
  {
   "cell_type": "code",
   "execution_count": 30,
   "id": "1e13f199",
   "metadata": {},
   "outputs": [],
   "source": [
    "C = car(35,2000,1,500)"
   ]
  },
  {
   "cell_type": "code",
   "execution_count": 31,
   "id": "cfdb354b",
   "metadata": {},
   "outputs": [
    {
     "name": "stdout",
     "output_type": "stream",
     "text": [
      "I am a car\n",
      "my milage is:  35\n",
      "costof car:  2000\n",
      "Number of tyres:  1\n",
      "value of horse power:  500\n",
      "I am a vehicle\n",
      "milage of the vehicle:  35\n",
      "cost of the vehicle:  2000\n"
     ]
    }
   ],
   "source": [
    "C.show_car_details()\n",
    "C.show_details()"
   ]
  },
  {
   "cell_type": "markdown",
   "id": "b1045ed2",
   "metadata": {},
   "source": [
    "# Multiple inheritance"
   ]
  },
  {
   "cell_type": "code",
   "execution_count": 32,
   "id": "07e65f35",
   "metadata": {},
   "outputs": [],
   "source": [
    "#parent 1"
   ]
  },
  {
   "cell_type": "code",
   "execution_count": 33,
   "id": "b3cfb987",
   "metadata": {},
   "outputs": [],
   "source": [
    "class parent1:\n",
    "    def __init__(self,name,address,education):\n",
    "        self.name=name\n",
    "        self.address=address\n",
    "        self.education=education\n",
    "        \n",
    "    def show_papa_details(self):\n",
    "        print('Applicants name: ',self.name)\n",
    "        print('Applicants address: ',self.address)\n",
    "        print('Applicants education: ',self.education)"
   ]
  },
  {
   "cell_type": "code",
   "execution_count": 34,
   "id": "f1ab1fa6",
   "metadata": {},
   "outputs": [],
   "source": [
    "p1 = parent1('Sabeer Kureshi','mata nagar','HSC')"
   ]
  },
  {
   "cell_type": "code",
   "execution_count": 35,
   "id": "ffdc6286",
   "metadata": {},
   "outputs": [
    {
     "name": "stdout",
     "output_type": "stream",
     "text": [
      "Applicants name:  Sabeer Kureshi\n",
      "Applicants address:  mata nagar\n",
      "Applicants education:  HSC\n"
     ]
    }
   ],
   "source": [
    "p1.show_papa_details()"
   ]
  },
  {
   "cell_type": "code",
   "execution_count": 36,
   "id": "5328cf69",
   "metadata": {},
   "outputs": [],
   "source": [
    "class parent2:\n",
    "    def __init__(self,name,address,education):\n",
    "        self.name=name\n",
    "        self.address=address\n",
    "        self.education=education\n",
    "        \n",
    "    def show_mamma_details(self):\n",
    "        print('Applicants name: ',self.name)\n",
    "        print('Applicants address: ',self.address)\n",
    "        print('Applicants education: ',self.education)"
   ]
  },
  {
   "cell_type": "code",
   "execution_count": 37,
   "id": "3533e26d",
   "metadata": {},
   "outputs": [],
   "source": [
    "p2 = parent2('Shabana kureshi','Tumsar','SSC')"
   ]
  },
  {
   "cell_type": "code",
   "execution_count": 38,
   "id": "c273402b",
   "metadata": {},
   "outputs": [
    {
     "name": "stdout",
     "output_type": "stream",
     "text": [
      "Applicants name:  Shabana kureshi\n",
      "Applicants address:  Tumsar\n",
      "Applicants education:  SSC\n"
     ]
    }
   ],
   "source": [
    "p2.show_mamma_details()"
   ]
  },
  {
   "cell_type": "code",
   "execution_count": 50,
   "id": "a6716c8e",
   "metadata": {},
   "outputs": [],
   "source": [
    "class child(parent1, parent2):\n",
    "    def __init__(self, name, address, education):\n",
    "        super().__init__(name, address, education)\n",
    "\n",
    "    def Child_detail(self):\n",
    "        # Call the show_papa_details method from parent1\n",
    "        super().show_papa_details()\n",
    "        \n",
    "        # Call the show_mamma_details method from parent2\n",
    "        super().show_mamma_details()\n"
   ]
  },
  {
   "cell_type": "code",
   "execution_count": 53,
   "id": "a365c439",
   "metadata": {},
   "outputs": [],
   "source": [
    "CC=child('Tausif kureshi','koradi','Graduate')"
   ]
  },
  {
   "cell_type": "code",
   "execution_count": 54,
   "id": "f1cd24b9",
   "metadata": {},
   "outputs": [
    {
     "name": "stdout",
     "output_type": "stream",
     "text": [
      "Applicants name:  Tausif kureshi\n",
      "Applicants address:  koradi\n",
      "Applicants education:  Graduate\n"
     ]
    }
   ],
   "source": [
    "CC.show_papa_details()"
   ]
  },
  {
   "cell_type": "code",
   "execution_count": null,
   "id": "7efcecc0",
   "metadata": {},
   "outputs": [],
   "source": [
    "CC."
   ]
  },
  {
   "cell_type": "code",
   "execution_count": null,
   "id": "ac9d15c7",
   "metadata": {},
   "outputs": [],
   "source": []
  },
  {
   "cell_type": "code",
   "execution_count": null,
   "id": "48ad6701",
   "metadata": {},
   "outputs": [],
   "source": []
  }
 ],
 "metadata": {
  "kernelspec": {
   "display_name": "Python 3 (ipykernel)",
   "language": "python",
   "name": "python3"
  },
  "language_info": {
   "codemirror_mode": {
    "name": "ipython",
    "version": 3
   },
   "file_extension": ".py",
   "mimetype": "text/x-python",
   "name": "python",
   "nbconvert_exporter": "python",
   "pygments_lexer": "ipython3",
   "version": "3.11.5"
  }
 },
 "nbformat": 4,
 "nbformat_minor": 5
}
